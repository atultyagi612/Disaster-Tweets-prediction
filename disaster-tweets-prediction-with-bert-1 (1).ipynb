{
 "cells": [
  {
   "cell_type": "code",
   "execution_count": 1,
   "id": "28910cc5",
   "metadata": {
    "execution": {
     "iopub.execute_input": "2021-07-20T15:32:51.081892Z",
     "iopub.status.busy": "2021-07-20T15:32:51.081250Z",
     "iopub.status.idle": "2021-07-20T15:32:51.752386Z",
     "shell.execute_reply": "2021-07-20T15:32:51.751763Z"
    },
    "id": "0c7EZWXWRQac",
    "outputId": "5e711ee4-0f57-4bb5-dfc2-907372ebb479",
    "papermill": {
     "duration": 0.714235,
     "end_time": "2021-07-20T15:32:51.752537",
     "exception": false,
     "start_time": "2021-07-20T15:32:51.038302",
     "status": "completed"
    },
    "tags": []
   },
   "outputs": [
    {
     "name": "stdout",
     "output_type": "stream",
     "text": [
      "Tue Jul 20 15:32:51 2021       \r\n",
      "+-----------------------------------------------------------------------------+\r\n",
      "| NVIDIA-SMI 450.119.04   Driver Version: 450.119.04   CUDA Version: 11.0     |\r\n",
      "|-------------------------------+----------------------+----------------------+\r\n",
      "| GPU  Name        Persistence-M| Bus-Id        Disp.A | Volatile Uncorr. ECC |\r\n",
      "| Fan  Temp  Perf  Pwr:Usage/Cap|         Memory-Usage | GPU-Util  Compute M. |\r\n",
      "|                               |                      |               MIG M. |\r\n",
      "|===============================+======================+======================|\r\n",
      "|   0  Tesla P100-PCIE...  Off  | 00000000:00:04.0 Off |                    0 |\r\n",
      "| N/A   35C    P0    25W / 250W |      0MiB / 16280MiB |      0%      Default |\r\n",
      "|                               |                      |                  N/A |\r\n",
      "+-------------------------------+----------------------+----------------------+\r\n",
      "                                                                               \r\n",
      "+-----------------------------------------------------------------------------+\r\n",
      "| Processes:                                                                  |\r\n",
      "|  GPU   GI   CI        PID   Type   Process name                  GPU Memory |\r\n",
      "|        ID   ID                                                   Usage      |\r\n",
      "|=============================================================================|\r\n",
      "|  No running processes found                                                 |\r\n",
      "+-----------------------------------------------------------------------------+\r\n"
     ]
    }
   ],
   "source": [
    "!nvidia-smi"
   ]
  },
  {
   "cell_type": "markdown",
   "id": "d7e2427a",
   "metadata": {
    "papermill": {
     "duration": 0.02973,
     "end_time": "2021-07-20T15:32:51.813210",
     "exception": false,
     "start_time": "2021-07-20T15:32:51.783480",
     "status": "completed"
    },
    "tags": []
   },
   "source": [
    "# Installing dependencies"
   ]
  },
  {
   "cell_type": "code",
   "execution_count": 2,
   "id": "f8c2a4ee",
   "metadata": {
    "_kg_hide-output": true,
    "execution": {
     "iopub.execute_input": "2021-07-20T15:32:51.882837Z",
     "iopub.status.busy": "2021-07-20T15:32:51.878621Z",
     "iopub.status.idle": "2021-07-20T15:33:07.570765Z",
     "shell.execute_reply": "2021-07-20T15:33:07.569847Z",
     "shell.execute_reply.started": "2021-07-20T13:12:23.298586Z"
    },
    "id": "TTmkxUbFOchQ",
    "outputId": "36056e28-824a-483f-e153-c7d5cf1771a2",
    "papermill": {
     "duration": 15.726817,
     "end_time": "2021-07-20T15:33:07.570915",
     "exception": false,
     "start_time": "2021-07-20T15:32:51.844098",
     "status": "completed"
    },
    "tags": []
   },
   "outputs": [
    {
     "name": "stdout",
     "output_type": "stream",
     "text": [
      "Requirement already satisfied: transformers in /opt/conda/lib/python3.7/site-packages (4.6.1)\r\n",
      "Requirement already satisfied: sacremoses in /opt/conda/lib/python3.7/site-packages (from transformers) (0.0.45)\r\n",
      "Requirement already satisfied: numpy>=1.17 in /opt/conda/lib/python3.7/site-packages (from transformers) (1.19.5)\r\n",
      "Requirement already satisfied: tokenizers<0.11,>=0.10.1 in /opt/conda/lib/python3.7/site-packages (from transformers) (0.10.3)\r\n",
      "Requirement already satisfied: importlib-metadata in /opt/conda/lib/python3.7/site-packages (from transformers) (3.4.0)\r\n",
      "Requirement already satisfied: regex!=2019.12.17 in /opt/conda/lib/python3.7/site-packages (from transformers) (2021.4.4)\r\n",
      "Requirement already satisfied: requests in /opt/conda/lib/python3.7/site-packages (from transformers) (2.25.1)\r\n",
      "Requirement already satisfied: tqdm>=4.27 in /opt/conda/lib/python3.7/site-packages (from transformers) (4.61.1)\r\n",
      "Requirement already satisfied: packaging in /opt/conda/lib/python3.7/site-packages (from transformers) (20.9)\r\n",
      "Requirement already satisfied: filelock in /opt/conda/lib/python3.7/site-packages (from transformers) (3.0.12)\r\n",
      "Requirement already satisfied: huggingface-hub==0.0.8 in /opt/conda/lib/python3.7/site-packages (from transformers) (0.0.8)\r\n",
      "Requirement already satisfied: zipp>=0.5 in /opt/conda/lib/python3.7/site-packages (from importlib-metadata->transformers) (3.4.1)\r\n",
      "Requirement already satisfied: typing-extensions>=3.6.4 in /opt/conda/lib/python3.7/site-packages (from importlib-metadata->transformers) (3.7.4.3)\r\n",
      "Requirement already satisfied: pyparsing>=2.0.2 in /opt/conda/lib/python3.7/site-packages (from packaging->transformers) (2.4.7)\r\n",
      "Requirement already satisfied: urllib3<1.27,>=1.21.1 in /opt/conda/lib/python3.7/site-packages (from requests->transformers) (1.26.5)\r\n",
      "Requirement already satisfied: certifi>=2017.4.17 in /opt/conda/lib/python3.7/site-packages (from requests->transformers) (2021.5.30)\r\n",
      "Requirement already satisfied: idna<3,>=2.5 in /opt/conda/lib/python3.7/site-packages (from requests->transformers) (2.10)\r\n",
      "Requirement already satisfied: chardet<5,>=3.0.2 in /opt/conda/lib/python3.7/site-packages (from requests->transformers) (4.0.0)\r\n",
      "Requirement already satisfied: click in /opt/conda/lib/python3.7/site-packages (from sacremoses->transformers) (7.1.2)\r\n",
      "Requirement already satisfied: six in /opt/conda/lib/python3.7/site-packages (from sacremoses->transformers) (1.15.0)\r\n",
      "Requirement already satisfied: joblib in /opt/conda/lib/python3.7/site-packages (from sacremoses->transformers) (1.0.1)\r\n",
      "\u001b[33mWARNING: Running pip as root will break packages and permissions. You should install packages reliably by using venv: https://pip.pypa.io/warnings/venv\u001b[0m\r\n",
      "Collecting text_hammer\r\n",
      "  Downloading text_hammer-0.1.5-py3-none-any.whl (7.6 kB)\r\n",
      "Requirement already satisfied: pandas in /opt/conda/lib/python3.7/site-packages (from text_hammer) (1.2.4)\r\n",
      "Requirement already satisfied: numpy in /opt/conda/lib/python3.7/site-packages (from text_hammer) (1.19.5)\r\n",
      "Requirement already satisfied: spacy in /opt/conda/lib/python3.7/site-packages (from text_hammer) (2.3.7)\r\n",
      "Collecting beautifulsoup4==4.9.1\r\n",
      "  Downloading beautifulsoup4-4.9.1-py3-none-any.whl (115 kB)\r\n",
      "\u001b[K     |████████████████████████████████| 115 kB 391 kB/s \r\n",
      "\u001b[?25hRequirement already satisfied: TextBlob in /opt/conda/lib/python3.7/site-packages (from text_hammer) (0.15.3)\r\n",
      "Requirement already satisfied: soupsieve>1.2 in /opt/conda/lib/python3.7/site-packages (from beautifulsoup4==4.9.1->text_hammer) (2.2.1)\r\n",
      "Requirement already satisfied: python-dateutil>=2.7.3 in /opt/conda/lib/python3.7/site-packages (from pandas->text_hammer) (2.8.1)\r\n",
      "Requirement already satisfied: pytz>=2017.3 in /opt/conda/lib/python3.7/site-packages (from pandas->text_hammer) (2021.1)\r\n",
      "Requirement already satisfied: six>=1.5 in /opt/conda/lib/python3.7/site-packages (from python-dateutil>=2.7.3->pandas->text_hammer) (1.15.0)\r\n",
      "Requirement already satisfied: blis<0.8.0,>=0.4.0 in /opt/conda/lib/python3.7/site-packages (from spacy->text_hammer) (0.7.4)\r\n",
      "Requirement already satisfied: tqdm<5.0.0,>=4.38.0 in /opt/conda/lib/python3.7/site-packages (from spacy->text_hammer) (4.61.1)\r\n",
      "Requirement already satisfied: requests<3.0.0,>=2.13.0 in /opt/conda/lib/python3.7/site-packages (from spacy->text_hammer) (2.25.1)\r\n",
      "Requirement already satisfied: wasabi<1.1.0,>=0.4.0 in /opt/conda/lib/python3.7/site-packages (from spacy->text_hammer) (0.8.2)\r\n",
      "Requirement already satisfied: preshed<3.1.0,>=3.0.2 in /opt/conda/lib/python3.7/site-packages (from spacy->text_hammer) (3.0.5)\r\n",
      "Requirement already satisfied: srsly<1.1.0,>=1.0.2 in /opt/conda/lib/python3.7/site-packages (from spacy->text_hammer) (1.0.5)\r\n",
      "Requirement already satisfied: catalogue<1.1.0,>=0.0.7 in /opt/conda/lib/python3.7/site-packages (from spacy->text_hammer) (1.0.0)\r\n",
      "Requirement already satisfied: cymem<2.1.0,>=2.0.2 in /opt/conda/lib/python3.7/site-packages (from spacy->text_hammer) (2.0.5)\r\n",
      "Requirement already satisfied: murmurhash<1.1.0,>=0.28.0 in /opt/conda/lib/python3.7/site-packages (from spacy->text_hammer) (1.0.5)\r\n",
      "Requirement already satisfied: thinc<7.5.0,>=7.4.1 in /opt/conda/lib/python3.7/site-packages (from spacy->text_hammer) (7.4.5)\r\n",
      "Requirement already satisfied: setuptools in /opt/conda/lib/python3.7/site-packages (from spacy->text_hammer) (49.6.0.post20210108)\r\n",
      "Requirement already satisfied: plac<1.2.0,>=0.9.6 in /opt/conda/lib/python3.7/site-packages (from spacy->text_hammer) (1.1.3)\r\n",
      "Requirement already satisfied: importlib-metadata>=0.20 in /opt/conda/lib/python3.7/site-packages (from catalogue<1.1.0,>=0.0.7->spacy->text_hammer) (3.4.0)\r\n",
      "Requirement already satisfied: typing-extensions>=3.6.4 in /opt/conda/lib/python3.7/site-packages (from importlib-metadata>=0.20->catalogue<1.1.0,>=0.0.7->spacy->text_hammer) (3.7.4.3)\r\n",
      "Requirement already satisfied: zipp>=0.5 in /opt/conda/lib/python3.7/site-packages (from importlib-metadata>=0.20->catalogue<1.1.0,>=0.0.7->spacy->text_hammer) (3.4.1)\r\n",
      "Requirement already satisfied: urllib3<1.27,>=1.21.1 in /opt/conda/lib/python3.7/site-packages (from requests<3.0.0,>=2.13.0->spacy->text_hammer) (1.26.5)\r\n",
      "Requirement already satisfied: chardet<5,>=3.0.2 in /opt/conda/lib/python3.7/site-packages (from requests<3.0.0,>=2.13.0->spacy->text_hammer) (4.0.0)\r\n",
      "Requirement already satisfied: certifi>=2017.4.17 in /opt/conda/lib/python3.7/site-packages (from requests<3.0.0,>=2.13.0->spacy->text_hammer) (2021.5.30)\r\n",
      "Requirement already satisfied: idna<3,>=2.5 in /opt/conda/lib/python3.7/site-packages (from requests<3.0.0,>=2.13.0->spacy->text_hammer) (2.10)\r\n",
      "Requirement already satisfied: nltk>=3.1 in /opt/conda/lib/python3.7/site-packages (from TextBlob->text_hammer) (3.2.4)\r\n",
      "Installing collected packages: beautifulsoup4, text-hammer\r\n",
      "  Attempting uninstall: beautifulsoup4\r\n",
      "    Found existing installation: beautifulsoup4 4.9.3\r\n",
      "    Uninstalling beautifulsoup4-4.9.3:\r\n",
      "      Successfully uninstalled beautifulsoup4-4.9.3\r\n",
      "Successfully installed beautifulsoup4-4.9.1 text-hammer-0.1.5\r\n",
      "\u001b[33mWARNING: Running pip as root will break packages and permissions. You should install packages reliably by using venv: https://pip.pypa.io/warnings/venv\u001b[0m\r\n"
     ]
    }
   ],
   "source": [
    "!pip install transformers\n",
    "!pip install text_hammer "
   ]
  },
  {
   "cell_type": "markdown",
   "id": "144dad48",
   "metadata": {
    "id": "Vh-Vc3Q4wVer",
    "papermill": {
     "duration": 0.035203,
     "end_time": "2021-07-20T15:33:07.641618",
     "exception": false,
     "start_time": "2021-07-20T15:33:07.606415",
     "status": "completed"
    },
    "tags": []
   },
   "source": [
    "# Importing libraries"
   ]
  },
  {
   "cell_type": "code",
   "execution_count": 3,
   "id": "90709228",
   "metadata": {
    "execution": {
     "iopub.execute_input": "2021-07-20T15:33:07.719371Z",
     "iopub.status.busy": "2021-07-20T15:33:07.718579Z",
     "iopub.status.idle": "2021-07-20T15:33:16.054084Z",
     "shell.execute_reply": "2021-07-20T15:33:16.053565Z",
     "shell.execute_reply.started": "2021-07-20T13:12:38.811502Z"
    },
    "id": "1k9K37OEwFow",
    "outputId": "fab0fd54-e3af-4984-8a66-89d814b55af7",
    "papermill": {
     "duration": 8.376945,
     "end_time": "2021-07-20T15:33:16.054269",
     "exception": false,
     "start_time": "2021-07-20T15:33:07.677324",
     "status": "completed"
    },
    "tags": []
   },
   "outputs": [],
   "source": [
    "import pandas as pd\n",
    "import matplotlib.pyplot as plt\n",
    "import seaborn as sns\n",
    "import numpy as np\n",
    "import re\n",
    "import text_hammer as th\n",
    "\n",
    "\n",
    "import tensorflow as tf\n",
    "from tensorflow.keras.layers import Input, Dense\n",
    "from tensorflow.keras.optimizers import Adam\n",
    "from tensorflow.keras.callbacks import EarlyStopping\n",
    "from tensorflow.keras.initializers import TruncatedNormal\n",
    "from tensorflow.keras.losses import CategoricalCrossentropy,BinaryCrossentropy\n",
    "from tensorflow.keras.metrics import CategoricalAccuracy,BinaryAccuracy\n",
    "from tensorflow.keras.utils import to_categorical\n",
    "from tensorflow.keras.utils import plot_model"
   ]
  },
  {
   "cell_type": "markdown",
   "id": "1be45ce1",
   "metadata": {
    "papermill": {
     "duration": 0.035351,
     "end_time": "2021-07-20T15:33:16.125180",
     "exception": false,
     "start_time": "2021-07-20T15:33:16.089829",
     "status": "completed"
    },
    "tags": []
   },
   "source": [
    "# Importing data"
   ]
  },
  {
   "cell_type": "code",
   "execution_count": 4,
   "id": "ac0d2e94",
   "metadata": {
    "execution": {
     "iopub.execute_input": "2021-07-20T15:33:16.200413Z",
     "iopub.status.busy": "2021-07-20T15:33:16.199807Z",
     "iopub.status.idle": "2021-07-20T15:33:16.269348Z",
     "shell.execute_reply": "2021-07-20T15:33:16.268483Z",
     "shell.execute_reply.started": "2021-07-20T13:12:47.414238Z"
    },
    "id": "fCJDiXwXwZQF",
    "papermill": {
     "duration": 0.109337,
     "end_time": "2021-07-20T15:33:16.269480",
     "exception": false,
     "start_time": "2021-07-20T15:33:16.160143",
     "status": "completed"
    },
    "tags": []
   },
   "outputs": [],
   "source": [
    "train=pd.read_csv('../input/nlp-getting-started/train.csv')\n",
    "test=pd.read_csv('../input/nlp-getting-started/test.csv')"
   ]
  },
  {
   "cell_type": "code",
   "execution_count": 5,
   "id": "e2657a71",
   "metadata": {
    "execution": {
     "iopub.execute_input": "2021-07-20T15:33:16.349775Z",
     "iopub.status.busy": "2021-07-20T15:33:16.349111Z",
     "iopub.status.idle": "2021-07-20T15:33:16.363343Z",
     "shell.execute_reply": "2021-07-20T15:33:16.363755Z",
     "shell.execute_reply.started": "2021-07-20T13:12:47.476445Z"
    },
    "papermill": {
     "duration": 0.058458,
     "end_time": "2021-07-20T15:33:16.363885",
     "exception": false,
     "start_time": "2021-07-20T15:33:16.305427",
     "status": "completed"
    },
    "tags": []
   },
   "outputs": [
    {
     "data": {
      "text/html": [
       "<div>\n",
       "<style scoped>\n",
       "    .dataframe tbody tr th:only-of-type {\n",
       "        vertical-align: middle;\n",
       "    }\n",
       "\n",
       "    .dataframe tbody tr th {\n",
       "        vertical-align: top;\n",
       "    }\n",
       "\n",
       "    .dataframe thead th {\n",
       "        text-align: right;\n",
       "    }\n",
       "</style>\n",
       "<table border=\"1\" class=\"dataframe\">\n",
       "  <thead>\n",
       "    <tr style=\"text-align: right;\">\n",
       "      <th></th>\n",
       "      <th>id</th>\n",
       "      <th>keyword</th>\n",
       "      <th>location</th>\n",
       "      <th>text</th>\n",
       "      <th>target</th>\n",
       "    </tr>\n",
       "  </thead>\n",
       "  <tbody>\n",
       "    <tr>\n",
       "      <th>0</th>\n",
       "      <td>1</td>\n",
       "      <td>NaN</td>\n",
       "      <td>NaN</td>\n",
       "      <td>Our Deeds are the Reason of this #earthquake M...</td>\n",
       "      <td>1</td>\n",
       "    </tr>\n",
       "    <tr>\n",
       "      <th>1</th>\n",
       "      <td>4</td>\n",
       "      <td>NaN</td>\n",
       "      <td>NaN</td>\n",
       "      <td>Forest fire near La Ronge Sask. Canada</td>\n",
       "      <td>1</td>\n",
       "    </tr>\n",
       "    <tr>\n",
       "      <th>2</th>\n",
       "      <td>5</td>\n",
       "      <td>NaN</td>\n",
       "      <td>NaN</td>\n",
       "      <td>All residents asked to 'shelter in place' are ...</td>\n",
       "      <td>1</td>\n",
       "    </tr>\n",
       "    <tr>\n",
       "      <th>3</th>\n",
       "      <td>6</td>\n",
       "      <td>NaN</td>\n",
       "      <td>NaN</td>\n",
       "      <td>13,000 people receive #wildfires evacuation or...</td>\n",
       "      <td>1</td>\n",
       "    </tr>\n",
       "    <tr>\n",
       "      <th>4</th>\n",
       "      <td>7</td>\n",
       "      <td>NaN</td>\n",
       "      <td>NaN</td>\n",
       "      <td>Just got sent this photo from Ruby #Alaska as ...</td>\n",
       "      <td>1</td>\n",
       "    </tr>\n",
       "  </tbody>\n",
       "</table>\n",
       "</div>"
      ],
      "text/plain": [
       "   id keyword location                                               text  \\\n",
       "0   1     NaN      NaN  Our Deeds are the Reason of this #earthquake M...   \n",
       "1   4     NaN      NaN             Forest fire near La Ronge Sask. Canada   \n",
       "2   5     NaN      NaN  All residents asked to 'shelter in place' are ...   \n",
       "3   6     NaN      NaN  13,000 people receive #wildfires evacuation or...   \n",
       "4   7     NaN      NaN  Just got sent this photo from Ruby #Alaska as ...   \n",
       "\n",
       "   target  \n",
       "0       1  \n",
       "1       1  \n",
       "2       1  \n",
       "3       1  \n",
       "4       1  "
      ]
     },
     "execution_count": 5,
     "metadata": {},
     "output_type": "execute_result"
    }
   ],
   "source": [
    "train.head()"
   ]
  },
  {
   "cell_type": "code",
   "execution_count": 6,
   "id": "7ed9a135",
   "metadata": {
    "execution": {
     "iopub.execute_input": "2021-07-20T15:33:16.437956Z",
     "iopub.status.busy": "2021-07-20T15:33:16.437475Z",
     "iopub.status.idle": "2021-07-20T15:33:16.441798Z",
     "shell.execute_reply": "2021-07-20T15:33:16.442198Z",
     "shell.execute_reply.started": "2021-07-20T13:12:47.502725Z"
    },
    "papermill": {
     "duration": 0.043388,
     "end_time": "2021-07-20T15:33:16.442322",
     "exception": false,
     "start_time": "2021-07-20T15:33:16.398934",
     "status": "completed"
    },
    "tags": []
   },
   "outputs": [
    {
     "data": {
      "text/plain": [
       "(7613, 5)"
      ]
     },
     "execution_count": 6,
     "metadata": {},
     "output_type": "execute_result"
    }
   ],
   "source": [
    "train.shape"
   ]
  },
  {
   "cell_type": "code",
   "execution_count": 7,
   "id": "de704025",
   "metadata": {
    "execution": {
     "iopub.execute_input": "2021-07-20T15:33:16.518434Z",
     "iopub.status.busy": "2021-07-20T15:33:16.517745Z",
     "iopub.status.idle": "2021-07-20T15:33:16.520655Z",
     "shell.execute_reply": "2021-07-20T15:33:16.521108Z",
     "shell.execute_reply.started": "2021-07-20T13:12:47.511963Z"
    },
    "papermill": {
     "duration": 0.043287,
     "end_time": "2021-07-20T15:33:16.521228",
     "exception": false,
     "start_time": "2021-07-20T15:33:16.477941",
     "status": "completed"
    },
    "tags": []
   },
   "outputs": [
    {
     "data": {
      "text/plain": [
       "(3263, 4)"
      ]
     },
     "execution_count": 7,
     "metadata": {},
     "output_type": "execute_result"
    }
   ],
   "source": [
    "test.shape"
   ]
  },
  {
   "cell_type": "code",
   "execution_count": 8,
   "id": "692346e4",
   "metadata": {
    "execution": {
     "iopub.execute_input": "2021-07-20T15:33:16.602725Z",
     "iopub.status.busy": "2021-07-20T15:33:16.601906Z",
     "iopub.status.idle": "2021-07-20T15:33:16.605305Z",
     "shell.execute_reply": "2021-07-20T15:33:16.605671Z",
     "shell.execute_reply.started": "2021-07-20T13:12:47.525131Z"
    },
    "papermill": {
     "duration": 0.048618,
     "end_time": "2021-07-20T15:33:16.605788",
     "exception": false,
     "start_time": "2021-07-20T15:33:16.557170",
     "status": "completed"
    },
    "tags": []
   },
   "outputs": [
    {
     "data": {
      "text/plain": [
       "id             0\n",
       "keyword       61\n",
       "location    2533\n",
       "text           0\n",
       "target         0\n",
       "dtype: int64"
      ]
     },
     "execution_count": 8,
     "metadata": {},
     "output_type": "execute_result"
    }
   ],
   "source": [
    "train.isnull().sum()"
   ]
  },
  {
   "cell_type": "code",
   "execution_count": 9,
   "id": "7320cf72",
   "metadata": {
    "execution": {
     "iopub.execute_input": "2021-07-20T15:33:16.684461Z",
     "iopub.status.busy": "2021-07-20T15:33:16.683802Z",
     "iopub.status.idle": "2021-07-20T15:33:16.686472Z",
     "shell.execute_reply": "2021-07-20T15:33:16.686081Z",
     "shell.execute_reply.started": "2021-07-20T13:12:47.540702Z"
    },
    "papermill": {
     "duration": 0.044642,
     "end_time": "2021-07-20T15:33:16.686580",
     "exception": false,
     "start_time": "2021-07-20T15:33:16.641938",
     "status": "completed"
    },
    "tags": []
   },
   "outputs": [],
   "source": [
    "train=train.fillna(\" \")"
   ]
  },
  {
   "cell_type": "code",
   "execution_count": 10,
   "id": "daaedd5d",
   "metadata": {
    "execution": {
     "iopub.execute_input": "2021-07-20T15:33:16.767988Z",
     "iopub.status.busy": "2021-07-20T15:33:16.767321Z",
     "iopub.status.idle": "2021-07-20T15:33:16.770722Z",
     "shell.execute_reply": "2021-07-20T15:33:16.770313Z",
     "shell.execute_reply.started": "2021-07-20T13:12:47.551302Z"
    },
    "papermill": {
     "duration": 0.047777,
     "end_time": "2021-07-20T15:33:16.770820",
     "exception": false,
     "start_time": "2021-07-20T15:33:16.723043",
     "status": "completed"
    },
    "tags": []
   },
   "outputs": [
    {
     "data": {
      "text/plain": [
       "id          0\n",
       "keyword     0\n",
       "location    0\n",
       "text        0\n",
       "target      0\n",
       "dtype: int64"
      ]
     },
     "execution_count": 10,
     "metadata": {},
     "output_type": "execute_result"
    }
   ],
   "source": [
    "train.isnull().sum()"
   ]
  },
  {
   "cell_type": "code",
   "execution_count": 11,
   "id": "6280d991",
   "metadata": {
    "execution": {
     "iopub.execute_input": "2021-07-20T15:33:16.852417Z",
     "iopub.status.busy": "2021-07-20T15:33:16.851713Z",
     "iopub.status.idle": "2021-07-20T15:33:16.854653Z",
     "shell.execute_reply": "2021-07-20T15:33:16.855074Z",
     "shell.execute_reply.started": "2021-07-20T13:12:47.564776Z"
    },
    "papermill": {
     "duration": 0.047826,
     "end_time": "2021-07-20T15:33:16.855196",
     "exception": false,
     "start_time": "2021-07-20T15:33:16.807370",
     "status": "completed"
    },
    "tags": []
   },
   "outputs": [
    {
     "data": {
      "text/plain": [
       "0    4342\n",
       "1    3271\n",
       "Name: target, dtype: int64"
      ]
     },
     "execution_count": 11,
     "metadata": {},
     "output_type": "execute_result"
    }
   ],
   "source": [
    "train.target.value_counts()"
   ]
  },
  {
   "cell_type": "code",
   "execution_count": 12,
   "id": "a02182a3",
   "metadata": {
    "execution": {
     "iopub.execute_input": "2021-07-20T15:33:16.932175Z",
     "iopub.status.busy": "2021-07-20T15:33:16.931350Z",
     "iopub.status.idle": "2021-07-20T15:33:17.094254Z",
     "shell.execute_reply": "2021-07-20T15:33:17.094850Z",
     "shell.execute_reply.started": "2021-07-20T13:12:47.578486Z"
    },
    "papermill": {
     "duration": 0.203311,
     "end_time": "2021-07-20T15:33:17.095048",
     "exception": false,
     "start_time": "2021-07-20T15:33:16.891737",
     "status": "completed"
    },
    "tags": []
   },
   "outputs": [
    {
     "name": "stderr",
     "output_type": "stream",
     "text": [
      "/opt/conda/lib/python3.7/site-packages/seaborn/_decorators.py:43: FutureWarning: Pass the following variable as a keyword arg: x. From version 0.12, the only valid positional argument will be `data`, and passing other arguments without an explicit keyword will result in an error or misinterpretation.\n",
      "  FutureWarning\n"
     ]
    },
    {
     "data": {
      "text/plain": [
       "<AxesSubplot:xlabel='target', ylabel='count'>"
      ]
     },
     "execution_count": 12,
     "metadata": {},
     "output_type": "execute_result"
    },
    {
     "data": {
      "image/png": "[encoded data removed]",
      "text/plain": [
       "<Figure size 432x288 with 1 Axes>"
      ]
     },
     "metadata": {
      "needs_background": "light"
     },
     "output_type": "display_data"
    }
   ],
   "source": [
    "sns.countplot(train.target)"
   ]
  },
  {
   "cell_type": "code",
   "execution_count": 13,
   "id": "8e05257b",
   "metadata": {
    "execution": {
     "iopub.execute_input": "2021-07-20T15:33:17.248191Z",
     "iopub.status.busy": "2021-07-20T15:33:17.247517Z",
     "iopub.status.idle": "2021-07-20T15:33:17.260670Z",
     "shell.execute_reply": "2021-07-20T15:33:17.261361Z",
     "shell.execute_reply.started": "2021-07-20T13:12:47.712738Z"
    },
    "id": "xeyARRi1Luot",
    "papermill": {
     "duration": 0.095982,
     "end_time": "2021-07-20T15:33:17.261494",
     "exception": false,
     "start_time": "2021-07-20T15:33:17.165512",
     "status": "completed"
    },
    "tags": []
   },
   "outputs": [],
   "source": [
    "# drop duplicate values\n",
    "train=train.drop_duplicates('text',keep='last')"
   ]
  },
  {
   "cell_type": "code",
   "execution_count": 14,
   "id": "ee20d3cc",
   "metadata": {
    "execution": {
     "iopub.execute_input": "2021-07-20T15:33:17.394593Z",
     "iopub.status.busy": "2021-07-20T15:33:17.391403Z",
     "iopub.status.idle": "2021-07-20T15:33:17.397456Z",
     "shell.execute_reply": "2021-07-20T15:33:17.396770Z",
     "shell.execute_reply.started": "2021-07-20T13:12:47.728154Z"
    },
    "id": "0DJMQ9E1OGfa",
    "papermill": {
     "duration": 0.074329,
     "end_time": "2021-07-20T15:33:17.397610",
     "exception": false,
     "start_time": "2021-07-20T15:33:17.323281",
     "status": "completed"
    },
    "tags": []
   },
   "outputs": [
    {
     "data": {
      "text/plain": [
       "(7503, 5)"
      ]
     },
     "execution_count": 14,
     "metadata": {},
     "output_type": "execute_result"
    }
   ],
   "source": [
    "train.shape"
   ]
  },
  {
   "cell_type": "code",
   "execution_count": 15,
   "id": "e8af22e0",
   "metadata": {
    "execution": {
     "iopub.execute_input": "2021-07-20T15:33:17.542683Z",
     "iopub.status.busy": "2021-07-20T15:33:17.541926Z",
     "iopub.status.idle": "2021-07-20T15:33:22.259138Z",
     "shell.execute_reply": "2021-07-20T15:33:22.258690Z",
     "shell.execute_reply.started": "2021-07-20T13:12:47.736876Z"
    },
    "papermill": {
     "duration": 4.794135,
     "end_time": "2021-07-20T15:33:22.259256",
     "exception": false,
     "start_time": "2021-07-20T15:33:17.465121",
     "status": "completed"
    },
    "tags": []
   },
   "outputs": [
    {
     "data": {
      "text/plain": [
       "<AxesSubplot:xlabel='count', ylabel='keyword'>"
      ]
     },
     "execution_count": 15,
     "metadata": {},
     "output_type": "execute_result"
    },
    {
     "data": {
      "image/png": "[encoded data removed]",
      "text/plain": [
       "<Figure size 1080x7200 with 1 Axes>"
      ]
     },
     "metadata": {
      "needs_background": "light"
     },
     "output_type": "display_data"
    }
   ],
   "source": [
    "plt.figure(figsize=(15,100))\n",
    "sns.countplot(data=train, y='keyword' , hue='target')"
   ]
  },
  {
   "cell_type": "code",
   "execution_count": null,
   "id": "f177f0ec",
   "metadata": {
    "papermill": {
     "duration": 0.047123,
     "end_time": "2021-07-20T15:33:22.355396",
     "exception": false,
     "start_time": "2021-07-20T15:33:22.308273",
     "status": "completed"
    },
    "tags": []
   },
   "outputs": [],
   "source": []
  },
  {
   "cell_type": "code",
   "execution_count": null,
   "id": "c9db2217",
   "metadata": {
    "papermill": {
     "duration": 0.048455,
     "end_time": "2021-07-20T15:33:22.449774",
     "exception": false,
     "start_time": "2021-07-20T15:33:22.401319",
     "status": "completed"
    },
    "tags": []
   },
   "outputs": [],
   "source": []
  },
  {
   "cell_type": "markdown",
   "id": "cf5eac91",
   "metadata": {
    "papermill": {
     "duration": 0.049888,
     "end_time": "2021-07-20T15:33:22.544770",
     "exception": false,
     "start_time": "2021-07-20T15:33:22.494882",
     "status": "completed"
    },
    "tags": []
   },
   "source": [
    "# Text Preprocessing"
   ]
  },
  {
   "cell_type": "code",
   "execution_count": 16,
   "id": "031c9cfd",
   "metadata": {
    "execution": {
     "iopub.execute_input": "2021-07-20T15:33:22.646090Z",
     "iopub.status.busy": "2021-07-20T15:33:22.645275Z",
     "iopub.status.idle": "2021-07-20T15:33:22.647889Z",
     "shell.execute_reply": "2021-07-20T15:33:22.647469Z",
     "shell.execute_reply.started": "2021-07-20T13:12:53.070872Z"
    },
    "id": "qjuMIJj2L3U5",
    "papermill": {
     "duration": 0.058191,
     "end_time": "2021-07-20T15:33:22.648002",
     "exception": false,
     "start_time": "2021-07-20T15:33:22.589811",
     "status": "completed"
    },
    "tags": []
   },
   "outputs": [],
   "source": [
    "def preprocess(text):\n",
    "  text=str(text).lower()\n",
    "  text=th.remove_urls(text)\n",
    "  text=th.cont_exp(text)\n",
    "  text=th.remove_emails(text)\n",
    "  text=th.remove_html_tags(text)\n",
    "  text=th.remove_special_chars(text)\n",
    "  text=th.remove_accented_chars(text)\n",
    "  text = str(text).lower().replace('\\\\', '').replace('_', ' ')\n",
    "  return text"
   ]
  },
  {
   "cell_type": "code",
   "execution_count": 17,
   "id": "aa665231",
   "metadata": {
    "execution": {
     "iopub.execute_input": "2021-07-20T15:33:22.748228Z",
     "iopub.status.busy": "2021-07-20T15:33:22.747440Z",
     "iopub.status.idle": "2021-07-20T15:33:44.956803Z",
     "shell.execute_reply": "2021-07-20T15:33:44.956307Z",
     "shell.execute_reply.started": "2021-07-20T13:12:53.081377Z"
    },
    "id": "zpLTUTAINfL_",
    "papermill": {
     "duration": 22.264163,
     "end_time": "2021-07-20T15:33:44.956939",
     "exception": false,
     "start_time": "2021-07-20T15:33:22.692776",
     "status": "completed"
    },
    "tags": []
   },
   "outputs": [],
   "source": [
    "# train prerocessing\n",
    "train.text=train.text.apply(preprocess)\n",
    "train.keyword=train.keyword.apply(preprocess)"
   ]
  },
  {
   "cell_type": "code",
   "execution_count": 18,
   "id": "5b0f0e88",
   "metadata": {
    "execution": {
     "iopub.execute_input": "2021-07-20T15:33:45.058492Z",
     "iopub.status.busy": "2021-07-20T15:33:45.057608Z",
     "iopub.status.idle": "2021-07-20T15:33:51.010015Z",
     "shell.execute_reply": "2021-07-20T15:33:51.009109Z",
     "shell.execute_reply.started": "2021-07-20T13:13:14.633796Z"
    },
    "id": "EJN9X_BmwrM7",
    "outputId": "ee9727c7-74a0-430f-c80a-2b005cf72568",
    "papermill": {
     "duration": 6.004152,
     "end_time": "2021-07-20T15:33:51.010194",
     "exception": false,
     "start_time": "2021-07-20T15:33:45.006042",
     "status": "completed"
    },
    "tags": []
   },
   "outputs": [],
   "source": [
    "# test preprocessing\n",
    "test.text=test.text.apply(preprocess)"
   ]
  },
  {
   "cell_type": "code",
   "execution_count": 19,
   "id": "f211d0f7",
   "metadata": {
    "execution": {
     "iopub.execute_input": "2021-07-20T15:33:51.103417Z",
     "iopub.status.busy": "2021-07-20T15:33:51.102617Z",
     "iopub.status.idle": "2021-07-20T15:33:51.105150Z",
     "shell.execute_reply": "2021-07-20T15:33:51.105525Z",
     "shell.execute_reply.started": "2021-07-20T13:13:20.299586Z"
    },
    "id": "BWTTR1XeOAAx",
    "papermill": {
     "duration": 0.050817,
     "end_time": "2021-07-20T15:33:51.105653",
     "exception": false,
     "start_time": "2021-07-20T15:33:51.054836",
     "status": "completed"
    },
    "tags": []
   },
   "outputs": [],
   "source": [
    "# train.text=train.text+\" \"+train.keyword"
   ]
  },
  {
   "cell_type": "code",
   "execution_count": 20,
   "id": "92b23e9c",
   "metadata": {
    "execution": {
     "iopub.execute_input": "2021-07-20T15:33:51.199200Z",
     "iopub.status.busy": "2021-07-20T15:33:51.198335Z",
     "iopub.status.idle": "2021-07-20T15:33:51.200919Z",
     "shell.execute_reply": "2021-07-20T15:33:51.200489Z",
     "shell.execute_reply.started": "2021-07-20T13:13:20.305354Z"
    },
    "id": "m593yba9zItw",
    "papermill": {
     "duration": 0.05118,
     "end_time": "2021-07-20T15:33:51.201035",
     "exception": false,
     "start_time": "2021-07-20T15:33:51.149855",
     "status": "completed"
    },
    "tags": []
   },
   "outputs": [],
   "source": [
    "y_train = train.target.values"
   ]
  },
  {
   "cell_type": "code",
   "execution_count": 21,
   "id": "2eb032b0",
   "metadata": {
    "execution": {
     "iopub.execute_input": "2021-07-20T15:33:51.296903Z",
     "iopub.status.busy": "2021-07-20T15:33:51.296130Z",
     "iopub.status.idle": "2021-07-20T15:33:51.299814Z",
     "shell.execute_reply": "2021-07-20T15:33:51.299366Z",
     "shell.execute_reply.started": "2021-07-20T13:13:20.313872Z"
    },
    "id": "BG1NhOhuw69O",
    "outputId": "88f430eb-fe5d-4264-c09d-6e025c198f2f",
    "papermill": {
     "duration": 0.053529,
     "end_time": "2021-07-20T15:33:51.299916",
     "exception": false,
     "start_time": "2021-07-20T15:33:51.246387",
     "status": "completed"
    },
    "tags": []
   },
   "outputs": [
    {
     "data": {
      "text/plain": [
       "'our deeds are the reason of this earthquake may allah forgive us all'"
      ]
     },
     "execution_count": 21,
     "metadata": {},
     "output_type": "execute_result"
    }
   ],
   "source": [
    "train.text[0]"
   ]
  },
  {
   "cell_type": "code",
   "execution_count": 22,
   "id": "08a68c79",
   "metadata": {
    "execution": {
     "iopub.execute_input": "2021-07-20T15:33:51.394125Z",
     "iopub.status.busy": "2021-07-20T15:33:51.393432Z",
     "iopub.status.idle": "2021-07-20T15:36:16.731899Z",
     "shell.execute_reply": "2021-07-20T15:36:16.729867Z"
    },
    "papermill": {
     "duration": 145.387047,
     "end_time": "2021-07-20T15:36:16.732249",
     "exception": false,
     "start_time": "2021-07-20T15:33:51.345202",
     "status": "completed"
    },
    "tags": []
   },
   "outputs": [
    {
     "data": {
      "application/vnd.jupyter.widget-view+json": {
       "model_id": "e5a90ce33fe44c0cb14c3f663cf34d67",
       "version_major": 2,
       "version_minor": 0
      },
      "text/plain": [
       "Downloading:   0%|          | 0.00/571 [00:00<?, ?B/s]"
      ]
     },
     "metadata": {},
     "output_type": "display_data"
    },
    {
     "data": {
      "application/vnd.jupyter.widget-view+json": {
       "model_id": "2112deb17b004eeb99ed44163686a200",
       "version_major": 2,
       "version_minor": 0
      },
      "text/plain": [
       "Downloading:   0%|          | 0.00/232k [00:00<?, ?B/s]"
      ]
     },
     "metadata": {},
     "output_type": "display_data"
    },
    {
     "data": {
      "application/vnd.jupyter.widget-view+json": {
       "model_id": "cd90e5fcee1b4f2a97ecdf8f01dada87",
       "version_major": 2,
       "version_minor": 0
      },
      "text/plain": [
       "Downloading:   0%|          | 0.00/466k [00:00<?, ?B/s]"
      ]
     },
     "metadata": {},
     "output_type": "display_data"
    },
    {
     "data": {
      "application/vnd.jupyter.widget-view+json": {
       "model_id": "57d0f7aa7c694bb7888502c3a6248039",
       "version_major": 2,
       "version_minor": 0
      },
      "text/plain": [
       "Downloading:   0%|          | 0.00/28.0 [00:00<?, ?B/s]"
      ]
     },
     "metadata": {},
     "output_type": "display_data"
    },
    {
     "data": {
      "application/vnd.jupyter.widget-view+json": {
       "model_id": "1e1c5c2a7f244bcfb99b807becdc3b7b",
       "version_major": 2,
       "version_minor": 0
      },
      "text/plain": [
       "Downloading:   0%|          | 0.00/1.47G [00:00<?, ?B/s]"
      ]
     },
     "metadata": {},
     "output_type": "display_data"
    },
    {
     "name": "stderr",
     "output_type": "stream",
     "text": [
      "Some layers from the model checkpoint at bert-large-uncased were not used when initializing TFBertModel: ['nsp___cls', 'mlm___cls']\n",
      "- This IS expected if you are initializing TFBertModel from the checkpoint of a model trained on another task or with another architecture (e.g. initializing a BertForSequenceClassification model from a BertForPreTraining model).\n",
      "- This IS NOT expected if you are initializing TFBertModel from the checkpoint of a model that you expect to be exactly identical (initializing a BertForSequenceClassification model from a BertForSequenceClassification model).\n",
      "All the layers of TFBertModel were initialized from the model checkpoint at bert-large-uncased.\n",
      "If your task is similar to the task the model of the checkpoint was trained on, you can already use TFBertModel for predictions without further training.\n"
     ]
    }
   ],
   "source": [
    "from transformers import AutoTokenizer,TFBertModel\n",
    "tokenizer = AutoTokenizer.from_pretrained('bert-large-uncased')\n",
    "bert = TFBertModel.from_pretrained('bert-large-uncased')"
   ]
  },
  {
   "cell_type": "code",
   "execution_count": 23,
   "id": "f2d05e2d",
   "metadata": {
    "execution": {
     "iopub.execute_input": "2021-07-20T15:36:17.046739Z",
     "iopub.status.busy": "2021-07-20T15:36:17.038222Z",
     "iopub.status.idle": "2021-07-20T15:36:17.053985Z",
     "shell.execute_reply": "2021-07-20T15:36:17.055204Z"
    },
    "id": "MApbbi_dxQs0",
    "outputId": "b146bd60-06c8-48f1-8285-60a513d05164",
    "papermill": {
     "duration": 0.186239,
     "end_time": "2021-07-20T15:36:17.055525",
     "exception": false,
     "start_time": "2021-07-20T15:36:16.869286",
     "status": "completed"
    },
    "tags": []
   },
   "outputs": [
    {
     "data": {
      "text/plain": [
       "{'input_ids': [101, 6857, 10273, 10651, 2662, 1044, 18418, 2322, 2701, 1999, 2119, 7826, 2349, 2000, 2697, 2221, 2543, 24689, 7442, 3748, 26332, 102], 'token_type_ids': [0, 0, 0, 0, 0, 0, 0, 0, 0, 0, 0, 0, 0, 0, 0, 0, 0, 0, 0, 0, 0, 0], 'attention_mask': [1, 1, 1, 1, 1, 1, 1, 1, 1, 1, 1, 1, 1, 1, 1, 1, 1, 1, 1, 1, 1, 1]}"
      ]
     },
     "execution_count": 23,
     "metadata": {},
     "output_type": "execute_result"
    }
   ],
   "source": [
    "tokenizer(train.text[5])"
   ]
  },
  {
   "cell_type": "code",
   "execution_count": 24,
   "id": "8670a830",
   "metadata": {
    "execution": {
     "iopub.execute_input": "2021-07-20T15:36:17.175055Z",
     "iopub.status.busy": "2021-07-20T15:36:17.174267Z",
     "iopub.status.idle": "2021-07-20T15:36:17.178276Z",
     "shell.execute_reply": "2021-07-20T15:36:17.177774Z"
    },
    "id": "oM02ri_pxTFl",
    "outputId": "52f56398-67a5-4524-a002-cd7b3342e48d",
    "papermill": {
     "duration": 0.057354,
     "end_time": "2021-07-20T15:36:17.178399",
     "exception": false,
     "start_time": "2021-07-20T15:36:17.121045",
     "status": "completed"
    },
    "tags": []
   },
   "outputs": [
    {
     "data": {
      "text/plain": [
       "'forest fire near la ronge sask canada'"
      ]
     },
     "execution_count": 24,
     "metadata": {},
     "output_type": "execute_result"
    }
   ],
   "source": [
    "train.text[1]"
   ]
  },
  {
   "cell_type": "code",
   "execution_count": 25,
   "id": "554499b5",
   "metadata": {
    "execution": {
     "iopub.execute_input": "2021-07-20T15:36:17.294867Z",
     "iopub.status.busy": "2021-07-20T15:36:17.294133Z",
     "iopub.status.idle": "2021-07-20T15:36:17.297374Z",
     "shell.execute_reply": "2021-07-20T15:36:17.297852Z"
    },
    "id": "MZuM4_YSxWha",
    "outputId": "0c143c5f-31c2-47e9-8cd6-86b5b3ad8dab",
    "papermill": {
     "duration": 0.066892,
     "end_time": "2021-07-20T15:36:17.297993",
     "exception": false,
     "start_time": "2021-07-20T15:36:17.231101",
     "status": "completed"
    },
    "tags": []
   },
   "outputs": [
    {
     "name": "stdout",
     "output_type": "stream",
     "text": [
      "max len of tweets 35\n"
     ]
    }
   ],
   "source": [
    "print(\"max len of tweets\",max([len(x.split()) for x in train.text]))\n",
    "max_length = 40"
   ]
  },
  {
   "cell_type": "code",
   "execution_count": 26,
   "id": "12efb19c",
   "metadata": {
    "execution": {
     "iopub.execute_input": "2021-07-20T15:36:17.413882Z",
     "iopub.status.busy": "2021-07-20T15:36:17.412976Z",
     "iopub.status.idle": "2021-07-20T15:36:18.002255Z",
     "shell.execute_reply": "2021-07-20T15:36:18.002865Z",
     "shell.execute_reply.started": "2021-07-20T12:30:50.399574Z"
    },
    "id": "kO9McB_0xlii",
    "papermill": {
     "duration": 0.654125,
     "end_time": "2021-07-20T15:36:18.003058",
     "exception": false,
     "start_time": "2021-07-20T15:36:17.348933",
     "status": "completed"
    },
    "tags": []
   },
   "outputs": [],
   "source": [
    "x_train = tokenizer(\n",
    "    text=train.text.tolist(),\n",
    "    add_special_tokens=True,\n",
    "    max_length=40,\n",
    "    truncation=True,\n",
    "    padding=True, \n",
    "    return_tensors='tf',\n",
    "    return_token_type_ids = False,\n",
    "    return_attention_mask = True,\n",
    "    verbose = True)"
   ]
  },
  {
   "cell_type": "code",
   "execution_count": 27,
   "id": "45b43bf0",
   "metadata": {
    "execution": {
     "iopub.execute_input": "2021-07-20T15:36:18.112004Z",
     "iopub.status.busy": "2021-07-20T15:36:18.111310Z",
     "iopub.status.idle": "2021-07-20T15:36:18.114966Z",
     "shell.execute_reply": "2021-07-20T15:36:18.114516Z",
     "shell.execute_reply.started": "2021-07-20T12:30:53.397929Z"
    },
    "id": "zpUxtzoZxpHl",
    "outputId": "1f03abf1-c53c-425f-c955-f4b3fdbc20f9",
    "papermill": {
     "duration": 0.060295,
     "end_time": "2021-07-20T15:36:18.115111",
     "exception": false,
     "start_time": "2021-07-20T15:36:18.054816",
     "status": "completed"
    },
    "tags": []
   },
   "outputs": [
    {
     "data": {
      "text/plain": [
       "TensorShape([7503, 40])"
      ]
     },
     "execution_count": 27,
     "metadata": {},
     "output_type": "execute_result"
    }
   ],
   "source": [
    "x_train['input_ids'].shape"
   ]
  },
  {
   "cell_type": "markdown",
   "id": "e88a8c08",
   "metadata": {
    "papermill": {
     "duration": 0.050514,
     "end_time": "2021-07-20T15:36:18.218640",
     "exception": false,
     "start_time": "2021-07-20T15:36:18.168126",
     "status": "completed"
    },
    "tags": []
   },
   "source": [
    "# MODEL"
   ]
  },
  {
   "cell_type": "code",
   "execution_count": 28,
   "id": "17d0bd1a",
   "metadata": {
    "execution": {
     "iopub.execute_input": "2021-07-20T15:36:18.334515Z",
     "iopub.status.busy": "2021-07-20T15:36:18.333798Z",
     "iopub.status.idle": "2021-07-20T15:36:26.435135Z",
     "shell.execute_reply": "2021-07-20T15:36:26.435762Z",
     "shell.execute_reply.started": "2021-07-20T12:31:30.793055Z"
    },
    "id": "X2x-XVCOxywX",
    "outputId": "9b400c52-8f5d-4b8b-f024-a5cbdc357475",
    "papermill": {
     "duration": 8.164054,
     "end_time": "2021-07-20T15:36:26.435918",
     "exception": false,
     "start_time": "2021-07-20T15:36:18.271864",
     "status": "completed"
    },
    "tags": []
   },
   "outputs": [],
   "source": [
    "max_len = 40\n",
    "\n",
    "\n",
    "input_ids = Input(shape=(max_len,), dtype=tf.int32, name=\"input_ids\")\n",
    "input_mask = Input(shape=(max_len,), dtype=tf.int32, name=\"attention_mask\")\n",
    "\n",
    "\n",
    "embeddings = bert(input_ids,attention_mask = input_mask)[1]\n",
    "out=tf.keras.layers.Dropout(0.07)(embeddings)\n",
    "out = Dense(128, activation='relu')(embeddings)\n",
    "out = tf.keras.layers.Dropout(0.1)(out)\n",
    "out = Dense(32,activation = 'relu')(out)\n",
    "\n",
    "y = Dense(1,activation = 'sigmoid')(out)\n",
    "\n",
    "model = tf.keras.Model(inputs=[input_ids, input_mask], outputs=y)\n",
    "model.layers[2].trainable = True"
   ]
  },
  {
   "cell_type": "code",
   "execution_count": 29,
   "id": "daf2baac",
   "metadata": {
    "execution": {
     "iopub.execute_input": "2021-07-20T15:36:26.569944Z",
     "iopub.status.busy": "2021-07-20T15:36:26.569156Z",
     "iopub.status.idle": "2021-07-20T15:36:26.574799Z",
     "shell.execute_reply": "2021-07-20T15:36:26.574091Z",
     "shell.execute_reply.started": "2021-07-20T12:31:36.271814Z"
    },
    "id": "5L2muk2xx1WI",
    "outputId": "27a194ca-3dce-4190-bf0e-47838abbfd48",
    "papermill": {
     "duration": 0.086781,
     "end_time": "2021-07-20T15:36:26.574970",
     "exception": false,
     "start_time": "2021-07-20T15:36:26.488189",
     "status": "completed"
    },
    "tags": []
   },
   "outputs": [
    {
     "name": "stdout",
     "output_type": "stream",
     "text": [
      "Model: \"model\"\n",
      "__________________________________________________________________________________________________\n",
      "Layer (type)                    Output Shape         Param #     Connected to                     \n",
      "==================================================================================================\n",
      "input_ids (InputLayer)          [(None, 40)]         0                                            \n",
      "__________________________________________________________________________________________________\n",
      "attention_mask (InputLayer)     [(None, 40)]         0                                            \n",
      "__________________________________________________________________________________________________\n",
      "tf_bert_model (TFBertModel)     TFBaseModelOutputWit 335141888   input_ids[0][0]                  \n",
      "                                                                 attention_mask[0][0]             \n",
      "__________________________________________________________________________________________________\n",
      "dense (Dense)                   (None, 128)          131200      tf_bert_model[0][1]              \n",
      "__________________________________________________________________________________________________\n",
      "dropout_74 (Dropout)            (None, 128)          0           dense[0][0]                      \n",
      "__________________________________________________________________________________________________\n",
      "dense_1 (Dense)                 (None, 32)           4128        dropout_74[0][0]                 \n",
      "__________________________________________________________________________________________________\n",
      "dense_2 (Dense)                 (None, 1)            33          dense_1[0][0]                    \n",
      "==================================================================================================\n",
      "Total params: 335,277,249\n",
      "Trainable params: 335,277,249\n",
      "Non-trainable params: 0\n",
      "__________________________________________________________________________________________________\n"
     ]
    }
   ],
   "source": [
    "model.summary()"
   ]
  },
  {
   "cell_type": "code",
   "execution_count": 30,
   "id": "ece86f9e",
   "metadata": {
    "execution": {
     "iopub.execute_input": "2021-07-20T15:36:26.692544Z",
     "iopub.status.busy": "2021-07-20T15:36:26.691568Z",
     "iopub.status.idle": "2021-07-20T15:36:26.717156Z",
     "shell.execute_reply": "2021-07-20T15:36:26.716669Z",
     "shell.execute_reply.started": "2021-07-20T12:31:41.244044Z"
    },
    "id": "EiR1C0_Mx3Ik",
    "papermill": {
     "duration": 0.087763,
     "end_time": "2021-07-20T15:36:26.717288",
     "exception": false,
     "start_time": "2021-07-20T15:36:26.629525",
     "status": "completed"
    },
    "tags": []
   },
   "outputs": [],
   "source": [
    "optimizer = Adam(\n",
    "    learning_rate=3e-5,\n",
    "    epsilon=1e-08,\n",
    "    decay=0.01,\n",
    "    clipnorm=1.0)\n",
    "\n",
    "# Set loss and metrics\n",
    "loss = BinaryCrossentropy(from_logits = True)\n",
    "metric = BinaryAccuracy('accuracy'),\n",
    "\n",
    "# Compile the model\n",
    "model.compile(\n",
    "    optimizer = optimizer,\n",
    "    loss = loss, \n",
    "    metrics = metric)"
   ]
  },
  {
   "cell_type": "code",
   "execution_count": 31,
   "id": "57865ea2",
   "metadata": {
    "execution": {
     "iopub.execute_input": "2021-07-20T15:36:26.826681Z",
     "iopub.status.busy": "2021-07-20T15:36:26.825870Z",
     "iopub.status.idle": "2021-07-20T15:36:27.361751Z",
     "shell.execute_reply": "2021-07-20T15:36:27.362265Z",
     "shell.execute_reply.started": "2021-07-20T12:31:43.679099Z"
    },
    "id": "447bFucmx5cR",
    "outputId": "27721802-9328-4bc2-fa75-ff4c0dc1297b",
    "papermill": {
     "duration": 0.594686,
     "end_time": "2021-07-20T15:36:27.362429",
     "exception": false,
     "start_time": "2021-07-20T15:36:26.767743",
     "status": "completed"
    },
    "tags": []
   },
   "outputs": [
    {
     "data": {
      "image/png": "[encoded data removed]",
      "text/plain": [
       "<IPython.core.display.Image object>"
      ]
     },
     "execution_count": 31,
     "metadata": {},
     "output_type": "execute_result"
    }
   ],
   "source": [
    "plot_model(model, show_shapes = True)"
   ]
  },
  {
   "cell_type": "code",
   "execution_count": 32,
   "id": "139ee617",
   "metadata": {
    "execution": {
     "iopub.execute_input": "2021-07-20T15:36:27.476971Z",
     "iopub.status.busy": "2021-07-20T15:36:27.476170Z",
     "iopub.status.idle": "2021-07-20T15:36:27.479537Z",
     "shell.execute_reply": "2021-07-20T15:36:27.480038Z",
     "shell.execute_reply.started": "2021-07-20T12:31:46.334541Z"
    },
    "id": "_fgNmNafx87M",
    "outputId": "f9dce79f-8bab-4edb-9ea1-0300004e4010",
    "papermill": {
     "duration": 0.063595,
     "end_time": "2021-07-20T15:36:27.480199",
     "exception": false,
     "start_time": "2021-07-20T15:36:27.416604",
     "status": "completed"
    },
    "tags": []
   },
   "outputs": [
    {
     "data": {
      "text/plain": [
       "[PhysicalDevice(name='/physical_device:GPU:0', device_type='GPU')]"
      ]
     },
     "execution_count": 32,
     "metadata": {},
     "output_type": "execute_result"
    }
   ],
   "source": [
    "import tensorflow as tf\n",
    "tf.config.experimental.list_physical_devices('GPU')"
   ]
  },
  {
   "cell_type": "markdown",
   "id": "38a152d2",
   "metadata": {
    "papermill": {
     "duration": 0.055532,
     "end_time": "2021-07-20T15:36:27.588792",
     "exception": false,
     "start_time": "2021-07-20T15:36:27.533260",
     "status": "completed"
    },
    "tags": []
   },
   "source": [
    "# Model training"
   ]
  },
  {
   "cell_type": "code",
   "execution_count": 33,
   "id": "21a4d4be",
   "metadata": {
    "execution": {
     "iopub.execute_input": "2021-07-20T15:36:27.706746Z",
     "iopub.status.busy": "2021-07-20T15:36:27.705580Z",
     "iopub.status.idle": "2021-07-20T15:41:11.280239Z",
     "shell.execute_reply": "2021-07-20T15:41:11.280661Z",
     "shell.execute_reply.started": "2021-07-20T12:31:52.017548Z"
    },
    "id": "wVjAnnb3yBSa",
    "outputId": "99774081-8e1c-4b81-d755-fb505a35b5a8",
    "papermill": {
     "duration": 283.638921,
     "end_time": "2021-07-20T15:41:11.280818",
     "exception": false,
     "start_time": "2021-07-20T15:36:27.641897",
     "status": "completed"
    },
    "tags": []
   },
   "outputs": [
    {
     "name": "stdout",
     "output_type": "stream",
     "text": [
      "Epoch 1/2\n",
      "235/235 [==============================] - 162s 519ms/step - loss: 0.5223 - accuracy: 0.7516\n",
      "Epoch 2/2\n",
      "235/235 [==============================] - 122s 518ms/step - loss: 0.3287 - accuracy: 0.8740\n"
     ]
    }
   ],
   "source": [
    "train_history = model.fit(\n",
    "    x ={'input_ids':x_train['input_ids'],'attention_mask':x_train['attention_mask']} ,\n",
    "    y = y_train,\n",
    "  epochs=2,\n",
    "    batch_size=32\n",
    ")"
   ]
  },
  {
   "cell_type": "code",
   "execution_count": 34,
   "id": "06484a84",
   "metadata": {
    "execution": {
     "iopub.execute_input": "2021-07-20T15:41:11.696286Z",
     "iopub.status.busy": "2021-07-20T15:41:11.695366Z",
     "iopub.status.idle": "2021-07-20T15:41:11.957072Z",
     "shell.execute_reply": "2021-07-20T15:41:11.956608Z",
     "shell.execute_reply.started": "2021-07-20T12:36:34.278497Z"
    },
    "id": "XbqdfCH7ymcq",
    "papermill": {
     "duration": 0.495758,
     "end_time": "2021-07-20T15:41:11.957203",
     "exception": false,
     "start_time": "2021-07-20T15:41:11.461445",
     "status": "completed"
    },
    "tags": []
   },
   "outputs": [],
   "source": [
    "test = tokenizer(\n",
    "    text=test.text.tolist(),\n",
    "    add_special_tokens=True,\n",
    "    max_length=40,\n",
    "    truncation=True,\n",
    "    padding=True, \n",
    "    return_tensors='tf',\n",
    "    return_token_type_ids = False,\n",
    "    return_attention_mask = True,\n",
    "    verbose = True)"
   ]
  },
  {
   "cell_type": "markdown",
   "id": "9ac5ee61",
   "metadata": {
    "papermill": {
     "duration": 0.182811,
     "end_time": "2021-07-20T15:41:12.326554",
     "exception": false,
     "start_time": "2021-07-20T15:41:12.143743",
     "status": "completed"
    },
    "tags": []
   },
   "source": [
    "# Prediction"
   ]
  },
  {
   "cell_type": "code",
   "execution_count": 35,
   "id": "092fc06c",
   "metadata": {
    "execution": {
     "iopub.execute_input": "2021-07-20T15:41:12.702754Z",
     "iopub.status.busy": "2021-07-20T15:41:12.701859Z",
     "iopub.status.idle": "2021-07-20T15:41:36.410222Z",
     "shell.execute_reply": "2021-07-20T15:41:36.409291Z",
     "shell.execute_reply.started": "2021-07-20T12:36:34.936742Z"
    },
    "id": "GQFmUSeuz-1M",
    "papermill": {
     "duration": 23.897755,
     "end_time": "2021-07-20T15:41:36.410365",
     "exception": false,
     "start_time": "2021-07-20T15:41:12.512610",
     "status": "completed"
    },
    "tags": []
   },
   "outputs": [],
   "source": [
    "pred = model.predict({'input_ids':test['input_ids'],'attention_mask':test['attention_mask']}) "
   ]
  },
  {
   "cell_type": "code",
   "execution_count": 36,
   "id": "0f342ee4",
   "metadata": {
    "execution": {
     "iopub.execute_input": "2021-07-20T15:41:36.755678Z",
     "iopub.status.busy": "2021-07-20T15:41:36.754817Z",
     "iopub.status.idle": "2021-07-20T15:41:36.756973Z",
     "shell.execute_reply": "2021-07-20T15:41:36.757410Z",
     "shell.execute_reply.started": "2021-07-20T12:36:58.413595Z"
    },
    "id": "oOEJ4xLQ0JxN",
    "papermill": {
     "duration": 0.176296,
     "end_time": "2021-07-20T15:41:36.757540",
     "exception": false,
     "start_time": "2021-07-20T15:41:36.581244",
     "status": "completed"
    },
    "tags": []
   },
   "outputs": [],
   "source": [
    "y_predicted = np.where(pred>0.5,1,0)"
   ]
  },
  {
   "cell_type": "code",
   "execution_count": 37,
   "id": "72e4b4f0",
   "metadata": {
    "execution": {
     "iopub.execute_input": "2021-07-20T15:41:37.110486Z",
     "iopub.status.busy": "2021-07-20T15:41:37.109753Z",
     "iopub.status.idle": "2021-07-20T15:41:37.112718Z",
     "shell.execute_reply": "2021-07-20T15:41:37.113151Z",
     "shell.execute_reply.started": "2021-07-20T12:36:58.421145Z"
    },
    "id": "797CvL3O08np",
    "outputId": "a1f6a329-8ae4-488f-ab2a-10258955e068",
    "papermill": {
     "duration": 0.184695,
     "end_time": "2021-07-20T15:41:37.113284",
     "exception": false,
     "start_time": "2021-07-20T15:41:36.928589",
     "status": "completed"
    },
    "tags": []
   },
   "outputs": [
    {
     "data": {
      "text/plain": [
       "array([1, 1, 1, ..., 1, 1, 1])"
      ]
     },
     "execution_count": 37,
     "metadata": {},
     "output_type": "execute_result"
    }
   ],
   "source": [
    "y_predicted = y_predicted.reshape((1,3263))[0]\n",
    "y_predicted"
   ]
  },
  {
   "cell_type": "markdown",
   "id": "e4d7c3e7",
   "metadata": {
    "papermill": {
     "duration": 0.179285,
     "end_time": "2021-07-20T15:41:37.487126",
     "exception": false,
     "start_time": "2021-07-20T15:41:37.307841",
     "status": "completed"
    },
    "tags": []
   },
   "source": [
    "# Submission"
   ]
  },
  {
   "cell_type": "code",
   "execution_count": 38,
   "id": "c40743c6",
   "metadata": {
    "execution": {
     "iopub.execute_input": "2021-07-20T15:41:37.838846Z",
     "iopub.status.busy": "2021-07-20T15:41:37.838215Z",
     "iopub.status.idle": "2021-07-20T15:41:37.989353Z",
     "shell.execute_reply": "2021-07-20T15:41:37.988538Z",
     "shell.execute_reply.started": "2021-07-20T12:37:14.793835Z"
    },
    "id": "pmHkbf8R0KQv",
    "outputId": "adff6a6f-7942-4154-cf5c-9dadb6ebb8e9",
    "papermill": {
     "duration": 0.329556,
     "end_time": "2021-07-20T15:41:37.989485",
     "exception": false,
     "start_time": "2021-07-20T15:41:37.659929",
     "status": "completed"
    },
    "tags": []
   },
   "outputs": [],
   "source": [
    "submission=pd.read_csv('../input/nlp-getting-started/sample_submission.csv')\n",
    "submission[\"target\"]=y_predicted\n",
    "submission.to_csv('submission.csv', index=False, header=True)"
   ]
  }
 ],
 "metadata": {
  "kernelspec": {
   "display_name": "Python 3",
   "language": "python",
   "name": "python3"
  },
  "language_info": {
   "codemirror_mode": {
    "name": "ipython",
    "version": 3
   },
   "file_extension": ".py",
   "mimetype": "text/x-python",
   "name": "python",
   "nbconvert_exporter": "python",
   "pygments_lexer": "ipython3",
   "version": "3.7.10"
  },
  "papermill": {
   "default_parameters": {},
   "duration": 536.906111,
   "end_time": "2021-07-20T15:41:41.114660",
   "environment_variables": {},
   "exception": null,
   "input_path": "__notebook__.ipynb",
   "output_path": "__notebook__.ipynb",
   "parameters": {},
   "start_time": "2021-07-20T15:32:44.208549",
   "version": "2.3.3"
  },
  "widgets": {
   "application/vnd.jupyter.widget-state+json": {
    "state": {
     "024c78791170445ab78fd1ff2ad27e8d": {
      "model_module": "@jupyter-widgets/controls",
      "model_module_version": "1.5.0",
      "model_name": "HTMLModel",
      "state": {
       "_dom_classes": [],
       "_model_module": "@jupyter-widgets/controls",
       "_model_module_version": "1.5.0",
       "_model_name": "HTMLModel",
       "_view_count": null,
       "_view_module": "@jupyter-widgets/controls",
       "_view_module_version": "1.5.0",
       "_view_name": "HTMLView",
       "description": "",
       "description_tooltip": null,
       "layout": "IPY_MODEL_2b9c85c6606a43ac9313b1ae63da0cf6",
       "placeholder": "​",
       "style": "IPY_MODEL_60b99d92e41b4906bc65486d90bda84a",
       "value": "Downloading: 100%"
      }
     },
     "02d54c2a89b2435b84e5f8b398bd7b47": {
      "model_module": "@jupyter-widgets/controls",
      "model_module_version": "1.5.0",
      "model_name": "HTMLModel",
      "state": {
       "_dom_classes": [],
       "_model_module": "@jupyter-widgets/controls",
       "_model_module_version": "1.5.0",
       "_model_name": "HTMLModel",
       "_view_count": null,
       "_view_module": "@jupyter-widgets/controls",
       "_view_module_version": "1.5.0",
       "_view_name": "HTMLView",
       "description": "",
       "description_tooltip": null,
       "layout": "IPY_MODEL_d952dd05a3194f3d9a914649b40309fd",
       "placeholder": "​",
       "style": "IPY_MODEL_356060e73493484d8bf4ffb0de0e4faa",
       "value": "Downloading: 100%"
      }
     },
     "06489f57ff5c4a2382491140d35fe66d": {
      "model_module": "@jupyter-widgets/base",
      "model_module_version": "1.2.0",
      "model_name": "LayoutModel",
      "state": {
       "_model_module": "@jupyter-widgets/base",
       "_model_module_version": "1.2.0",
       "_model_name": "LayoutModel",
       "_view_count": null,
       "_view_module": "@jupyter-widgets/base",
       "_view_module_version": "1.2.0",
       "_view_name": "LayoutView",
       "align_content": null,
       "align_items": null,
       "align_self": null,
       "border": null,
       "bottom": null,
       "display": null,
       "flex": null,
       "flex_flow": null,
       "grid_area": null,
       "grid_auto_columns": null,
       "grid_auto_flow": null,
       "grid_auto_rows": null,
       "grid_column": null,
       "grid_gap": null,
       "grid_row": null,
       "grid_template_areas": null,
       "grid_template_columns": null,
       "grid_template_rows": null,
       "height": null,
       "justify_content": null,
       "justify_items": null,
       "left": null,
       "margin": null,
       "max_height": null,
       "max_width": null,
       "min_height": null,
       "min_width": null,
       "object_fit": null,
       "object_position": null,
       "order": null,
       "overflow": null,
       "overflow_x": null,
       "overflow_y": null,
       "padding": null,
       "right": null,
       "top": null,
       "visibility": null,
       "width": null
      }
     },
     "076f5539f89b475b8cd0e2aa1b90a628": {
      "model_module": "@jupyter-widgets/base",
      "model_module_version": "1.2.0",
      "model_name": "LayoutModel",
      "state": {
       "_model_module": "@jupyter-widgets/base",
       "_model_module_version": "1.2.0",
       "_model_name": "LayoutModel",
       "_view_count": null,
       "_view_module": "@jupyter-widgets/base",
       "_view_module_version": "1.2.0",
       "_view_name": "LayoutView",
       "align_content": null,
       "align_items": null,
       "align_self": null,
       "border": null,
       "bottom": null,
       "display": null,
       "flex": null,
       "flex_flow": null,
       "grid_area": null,
       "grid_auto_columns": null,
       "grid_auto_flow": null,
       "grid_auto_rows": null,
       "grid_column": null,
       "grid_gap": null,
       "grid_row": null,
       "grid_template_areas": null,
       "grid_template_columns": null,
       "grid_template_rows": null,
       "height": null,
       "justify_content": null,
       "justify_items": null,
       "left": null,
       "margin": null,
       "max_height": null,
       "max_width": null,
       "min_height": null,
       "min_width": null,
       "object_fit": null,
       "object_position": null,
       "order": null,
       "overflow": null,
       "overflow_x": null,
       "overflow_y": null,
       "padding": null,
       "right": null,
       "top": null,
       "visibility": null,
       "width": null
      }
     },
     "0a2002f020054992805c58d667ca7fe1": {
      "model_module": "@jupyter-widgets/controls",
      "model_module_version": "1.5.0",
      "model_name": "HTMLModel",
      "state": {
       "_dom_classes": [],
       "_model_module": "@jupyter-widgets/controls",
       "_model_module_version": "1.5.0",
       "_model_name": "HTMLModel",
       "_view_count": null,
       "_view_module": "@jupyter-widgets/controls",
       "_view_module_version": "1.5.0",
       "_view_name": "HTMLView",
       "description": "",
       "description_tooltip": null,
       "layout": "IPY_MODEL_4b7c2290ad7e4fa1aaf0dd22e632a430",
       "placeholder": "​",
       "style": "IPY_MODEL_87894c72febf445faf8ee1ff4e1978eb",
       "value": " 571/571 [00:00&lt;00:00, 19.3kB/s]"
      }
     },
     "0a8eb72205a54600a87b9a15cc5f477c": {
      "model_module": "@jupyter-widgets/controls",
      "model_module_version": "1.5.0",
      "model_name": "HTMLModel",
      "state": {
       "_dom_classes": [],
       "_model_module": "@jupyter-widgets/controls",
       "_model_module_version": "1.5.0",
       "_model_name": "HTMLModel",
       "_view_count": null,
       "_view_module": "@jupyter-widgets/controls",
       "_view_module_version": "1.5.0",
       "_view_name": "HTMLView",
       "description": "",
       "description_tooltip": null,
       "layout": "IPY_MODEL_9ccfad7dda9344ed941794aa48b98cf2",
       "placeholder": "​",
       "style": "IPY_MODEL_9f7f63a989ed40098e77f79981cf5909",
       "value": " 466k/466k [00:00&lt;00:00, 839kB/s]"
      }
     },
     "17a98e97beac4d56bc6b290d83d0334b": {
      "model_module": "@jupyter-widgets/controls",
      "model_module_version": "1.5.0",
      "model_name": "FloatProgressModel",
      "state": {
       "_dom_classes": [],
       "_model_module": "@jupyter-widgets/controls",
       "_model_module_version": "1.5.0",
       "_model_name": "FloatProgressModel",
       "_view_count": null,
       "_view_module": "@jupyter-widgets/controls",
       "_view_module_version": "1.5.0",
       "_view_name": "ProgressView",
       "bar_style": "success",
       "description": "",
       "description_tooltip": null,
       "layout": "IPY_MODEL_06489f57ff5c4a2382491140d35fe66d",
       "max": 1472569832.0,
       "min": 0.0,
       "orientation": "horizontal",
       "style": "IPY_MODEL_ec38f40e97ef47929c18f9fe2310e0fb",
       "value": 1472569832.0
      }
     },
     "19ef88ffb5774454a720406baf811178": {
      "model_module": "@jupyter-widgets/controls",
      "model_module_version": "1.5.0",
      "model_name": "DescriptionStyleModel",
      "state": {
       "_model_module": "@jupyter-widgets/controls",
       "_model_module_version": "1.5.0",
       "_model_name": "DescriptionStyleModel",
       "_view_count": null,
       "_view_module": "@jupyter-widgets/base",
       "_view_module_version": "1.2.0",
       "_view_name": "StyleView",
       "description_width": ""
      }
     },
     "1e1c5c2a7f244bcfb99b807becdc3b7b": {
      "model_module": "@jupyter-widgets/controls",
      "model_module_version": "1.5.0",
      "model_name": "HBoxModel",
      "state": {
       "_dom_classes": [],
       "_model_module": "@jupyter-widgets/controls",
       "_model_module_version": "1.5.0",
       "_model_name": "HBoxModel",
       "_view_count": null,
       "_view_module": "@jupyter-widgets/controls",
       "_view_module_version": "1.5.0",
       "_view_name": "HBoxView",
       "box_style": "",
       "children": [
        "IPY_MODEL_384dd0fdb83a410a9fe316fb7e33703b",
        "IPY_MODEL_17a98e97beac4d56bc6b290d83d0334b",
        "IPY_MODEL_c2207e8c333c48a7a57e01dfbb015e3e"
       ],
       "layout": "IPY_MODEL_3675847a61034e4da906d3adc8ba8b3d"
      }
     },
     "2112deb17b004eeb99ed44163686a200": {
      "model_module": "@jupyter-widgets/controls",
      "model_module_version": "1.5.0",
      "model_name": "HBoxModel",
      "state": {
       "_dom_classes": [],
       "_model_module": "@jupyter-widgets/controls",
       "_model_module_version": "1.5.0",
       "_model_name": "HBoxModel",
       "_view_count": null,
       "_view_module": "@jupyter-widgets/controls",
       "_view_module_version": "1.5.0",
       "_view_name": "HBoxView",
       "box_style": "",
       "children": [
        "IPY_MODEL_8d12c9fda27b405781b6ca7bbb20ac17",
        "IPY_MODEL_38feb08f84094f7eb39118930e5fe3f4",
        "IPY_MODEL_b0e2e87ef554475391be1eb1d23f9dc8"
       ],
       "layout": "IPY_MODEL_cde058a848b64899b04c2b931af14f03"
      }
     },
     "2b9c85c6606a43ac9313b1ae63da0cf6": {
      "model_module": "@jupyter-widgets/base",
      "model_module_version": "1.2.0",
      "model_name": "LayoutModel",
      "state": {
       "_model_module": "@jupyter-widgets/base",
       "_model_module_version": "1.2.0",
       "_model_name": "LayoutModel",
       "_view_count": null,
       "_view_module": "@jupyter-widgets/base",
       "_view_module_version": "1.2.0",
       "_view_name": "LayoutView",
       "align_content": null,
       "align_items": null,
       "align_self": null,
       "border": null,
       "bottom": null,
       "display": null,
       "flex": null,
       "flex_flow": null,
       "grid_area": null,
       "grid_auto_columns": null,
       "grid_auto_flow": null,
       "grid_auto_rows": null,
       "grid_column": null,
       "grid_gap": null,
       "grid_row": null,
       "grid_template_areas": null,
       "grid_template_columns": null,
       "grid_template_rows": null,
       "height": null,
       "justify_content": null,
       "justify_items": null,
       "left": null,
       "margin": null,
       "max_height": null,
       "max_width": null,
       "min_height": null,
       "min_width": null,
       "object_fit": null,
       "object_position": null,
       "order": null,
       "overflow": null,
       "overflow_x": null,
       "overflow_y": null,
       "padding": null,
       "right": null,
       "top": null,
       "visibility": null,
       "width": null
      }
     },
     "32e69f00521047748ebaa162598fa553": {
      "model_module": "@jupyter-widgets/controls",
      "model_module_version": "1.5.0",
      "model_name": "FloatProgressModel",
      "state": {
       "_dom_classes": [],
       "_model_module": "@jupyter-widgets/controls",
       "_model_module_version": "1.5.0",
       "_model_name": "FloatProgressModel",
       "_view_count": null,
       "_view_module": "@jupyter-widgets/controls",
       "_view_module_version": "1.5.0",
       "_view_name": "ProgressView",
       "bar_style": "success",
       "description": "",
       "description_tooltip": null,
       "layout": "IPY_MODEL_c1e6f5ae4cac4f6e93ff0eb0ae7de732",
       "max": 571.0,
       "min": 0.0,
       "orientation": "horizontal",
       "style": "IPY_MODEL_fb09351886bb4d338da1c861682d1984",
       "value": 571.0
      }
     },
     "3545d1ea3adf4cd28a5a16ab1c57feba": {
      "model_module": "@jupyter-widgets/base",
      "model_module_version": "1.2.0",
      "model_name": "LayoutModel",
      "state": {
       "_model_module": "@jupyter-widgets/base",
       "_model_module_version": "1.2.0",
       "_model_name": "LayoutModel",
       "_view_count": null,
       "_view_module": "@jupyter-widgets/base",
       "_view_module_version": "1.2.0",
       "_view_name": "LayoutView",
       "align_content": null,
       "align_items": null,
       "align_self": null,
       "border": null,
       "bottom": null,
       "display": null,
       "flex": null,
       "flex_flow": null,
       "grid_area": null,
       "grid_auto_columns": null,
       "grid_auto_flow": null,
       "grid_auto_rows": null,
       "grid_column": null,
       "grid_gap": null,
       "grid_row": null,
       "grid_template_areas": null,
       "grid_template_columns": null,
       "grid_template_rows": null,
       "height": null,
       "justify_content": null,
       "justify_items": null,
       "left": null,
       "margin": null,
       "max_height": null,
       "max_width": null,
       "min_height": null,
       "min_width": null,
       "object_fit": null,
       "object_position": null,
       "order": null,
       "overflow": null,
       "overflow_x": null,
       "overflow_y": null,
       "padding": null,
       "right": null,
       "top": null,
       "visibility": null,
       "width": null
      }
     },
     "356060e73493484d8bf4ffb0de0e4faa": {
      "model_module": "@jupyter-widgets/controls",
      "model_module_version": "1.5.0",
      "model_name": "DescriptionStyleModel",
      "state": {
       "_model_module": "@jupyter-widgets/controls",
       "_model_module_version": "1.5.0",
       "_model_name": "DescriptionStyleModel",
       "_view_count": null,
       "_view_module": "@jupyter-widgets/base",
       "_view_module_version": "1.2.0",
       "_view_name": "StyleView",
       "description_width": ""
      }
     },
     "3675847a61034e4da906d3adc8ba8b3d": {
      "model_module": "@jupyter-widgets/base",
      "model_module_version": "1.2.0",
      "model_name": "LayoutModel",
      "state": {
       "_model_module": "@jupyter-widgets/base",
       "_model_module_version": "1.2.0",
       "_model_name": "LayoutModel",
       "_view_count": null,
       "_view_module": "@jupyter-widgets/base",
       "_view_module_version": "1.2.0",
       "_view_name": "LayoutView",
       "align_content": null,
       "align_items": null,
       "align_self": null,
       "border": null,
       "bottom": null,
       "display": null,
       "flex": null,
       "flex_flow": null,
       "grid_area": null,
       "grid_auto_columns": null,
       "grid_auto_flow": null,
       "grid_auto_rows": null,
       "grid_column": null,
       "grid_gap": null,
       "grid_row": null,
       "grid_template_areas": null,
       "grid_template_columns": null,
       "grid_template_rows": null,
       "height": null,
       "justify_content": null,
       "justify_items": null,
       "left": null,
       "margin": null,
       "max_height": null,
       "max_width": null,
       "min_height": null,
       "min_width": null,
       "object_fit": null,
       "object_position": null,
       "order": null,
       "overflow": null,
       "overflow_x": null,
       "overflow_y": null,
       "padding": null,
       "right": null,
       "top": null,
       "visibility": null,
       "width": null
      }
     },
     "384dd0fdb83a410a9fe316fb7e33703b": {
      "model_module": "@jupyter-widgets/controls",
      "model_module_version": "1.5.0",
      "model_name": "HTMLModel",
      "state": {
       "_dom_classes": [],
       "_model_module": "@jupyter-widgets/controls",
       "_model_module_version": "1.5.0",
       "_model_name": "HTMLModel",
       "_view_count": null,
       "_view_module": "@jupyter-widgets/controls",
       "_view_module_version": "1.5.0",
       "_view_name": "HTMLView",
       "description": "",
       "description_tooltip": null,
       "layout": "IPY_MODEL_91c034dfdc294d70951f6e4a0855a7fe",
       "placeholder": "​",
       "style": "IPY_MODEL_e6f44f87a2be42c488c2c0023395bc7f",
       "value": "Downloading: 100%"
      }
     },
     "38feb08f84094f7eb39118930e5fe3f4": {
      "model_module": "@jupyter-widgets/controls",
      "model_module_version": "1.5.0",
      "model_name": "FloatProgressModel",
      "state": {
       "_dom_classes": [],
       "_model_module": "@jupyter-widgets/controls",
       "_model_module_version": "1.5.0",
       "_model_name": "FloatProgressModel",
       "_view_count": null,
       "_view_module": "@jupyter-widgets/controls",
       "_view_module_version": "1.5.0",
       "_view_name": "ProgressView",
       "bar_style": "success",
       "description": "",
       "description_tooltip": null,
       "layout": "IPY_MODEL_84523128c9dd4c9589d52691269c7172",
       "max": 231508.0,
       "min": 0.0,
       "orientation": "horizontal",
       "style": "IPY_MODEL_74e6df7d4b6b49ea892f3cef282218cd",
       "value": 231508.0
      }
     },
     "40f8c736e46d489e9c304d82355ebb0c": {
      "model_module": "@jupyter-widgets/base",
      "model_module_version": "1.2.0",
      "model_name": "LayoutModel",
      "state": {
       "_model_module": "@jupyter-widgets/base",
       "_model_module_version": "1.2.0",
       "_model_name": "LayoutModel",
       "_view_count": null,
       "_view_module": "@jupyter-widgets/base",
       "_view_module_version": "1.2.0",
       "_view_name": "LayoutView",
       "align_content": null,
       "align_items": null,
       "align_self": null,
       "border": null,
       "bottom": null,
       "display": null,
       "flex": null,
       "flex_flow": null,
       "grid_area": null,
       "grid_auto_columns": null,
       "grid_auto_flow": null,
       "grid_auto_rows": null,
       "grid_column": null,
       "grid_gap": null,
       "grid_row": null,
       "grid_template_areas": null,
       "grid_template_columns": null,
       "grid_template_rows": null,
       "height": null,
       "justify_content": null,
       "justify_items": null,
       "left": null,
       "margin": null,
       "max_height": null,
       "max_width": null,
       "min_height": null,
       "min_width": null,
       "object_fit": null,
       "object_position": null,
       "order": null,
       "overflow": null,
       "overflow_x": null,
       "overflow_y": null,
       "padding": null,
       "right": null,
       "top": null,
       "visibility": null,
       "width": null
      }
     },
     "43d13cc636e24e8b9c20c9276180c6ae": {
      "model_module": "@jupyter-widgets/controls",
      "model_module_version": "1.5.0",
      "model_name": "FloatProgressModel",
      "state": {
       "_dom_classes": [],
       "_model_module": "@jupyter-widgets/controls",
       "_model_module_version": "1.5.0",
       "_model_name": "FloatProgressModel",
       "_view_count": null,
       "_view_module": "@jupyter-widgets/controls",
       "_view_module_version": "1.5.0",
       "_view_name": "ProgressView",
       "bar_style": "success",
       "description": "",
       "description_tooltip": null,
       "layout": "IPY_MODEL_50cbdb008d2d4cf4ab1424c699784eff",
       "max": 466062.0,
       "min": 0.0,
       "orientation": "horizontal",
       "style": "IPY_MODEL_cd753d4915ff41a69992f51612daa075",
       "value": 466062.0
      }
     },
     "4b7c2290ad7e4fa1aaf0dd22e632a430": {
      "model_module": "@jupyter-widgets/base",
      "model_module_version": "1.2.0",
      "model_name": "LayoutModel",
      "state": {
       "_model_module": "@jupyter-widgets/base",
       "_model_module_version": "1.2.0",
       "_model_name": "LayoutModel",
       "_view_count": null,
       "_view_module": "@jupyter-widgets/base",
       "_view_module_version": "1.2.0",
       "_view_name": "LayoutView",
       "align_content": null,
       "align_items": null,
       "align_self": null,
       "border": null,
       "bottom": null,
       "display": null,
       "flex": null,
       "flex_flow": null,
       "grid_area": null,
       "grid_auto_columns": null,
       "grid_auto_flow": null,
       "grid_auto_rows": null,
       "grid_column": null,
       "grid_gap": null,
       "grid_row": null,
       "grid_template_areas": null,
       "grid_template_columns": null,
       "grid_template_rows": null,
       "height": null,
       "justify_content": null,
       "justify_items": null,
       "left": null,
       "margin": null,
       "max_height": null,
       "max_width": null,
       "min_height": null,
       "min_width": null,
       "object_fit": null,
       "object_position": null,
       "order": null,
       "overflow": null,
       "overflow_x": null,
       "overflow_y": null,
       "padding": null,
       "right": null,
       "top": null,
       "visibility": null,
       "width": null
      }
     },
     "50cbdb008d2d4cf4ab1424c699784eff": {
      "model_module": "@jupyter-widgets/base",
      "model_module_version": "1.2.0",
      "model_name": "LayoutModel",
      "state": {
       "_model_module": "@jupyter-widgets/base",
       "_model_module_version": "1.2.0",
       "_model_name": "LayoutModel",
       "_view_count": null,
       "_view_module": "@jupyter-widgets/base",
       "_view_module_version": "1.2.0",
       "_view_name": "LayoutView",
       "align_content": null,
       "align_items": null,
       "align_self": null,
       "border": null,
       "bottom": null,
       "display": null,
       "flex": null,
       "flex_flow": null,
       "grid_area": null,
       "grid_auto_columns": null,
       "grid_auto_flow": null,
       "grid_auto_rows": null,
       "grid_column": null,
       "grid_gap": null,
       "grid_row": null,
       "grid_template_areas": null,
       "grid_template_columns": null,
       "grid_template_rows": null,
       "height": null,
       "justify_content": null,
       "justify_items": null,
       "left": null,
       "margin": null,
       "max_height": null,
       "max_width": null,
       "min_height": null,
       "min_width": null,
       "object_fit": null,
       "object_position": null,
       "order": null,
       "overflow": null,
       "overflow_x": null,
       "overflow_y": null,
       "padding": null,
       "right": null,
       "top": null,
       "visibility": null,
       "width": null
      }
     },
     "57d0f7aa7c694bb7888502c3a6248039": {
      "model_module": "@jupyter-widgets/controls",
      "model_module_version": "1.5.0",
      "model_name": "HBoxModel",
      "state": {
       "_dom_classes": [],
       "_model_module": "@jupyter-widgets/controls",
       "_model_module_version": "1.5.0",
       "_model_name": "HBoxModel",
       "_view_count": null,
       "_view_module": "@jupyter-widgets/controls",
       "_view_module_version": "1.5.0",
       "_view_name": "HBoxView",
       "box_style": "",
       "children": [
        "IPY_MODEL_02d54c2a89b2435b84e5f8b398bd7b47",
        "IPY_MODEL_6e47a1846d074edca25344a3f4469691",
        "IPY_MODEL_fc5627dd7a804e82ae1be5e686860b2b"
       ],
       "layout": "IPY_MODEL_40f8c736e46d489e9c304d82355ebb0c"
      }
     },
     "60b99d92e41b4906bc65486d90bda84a": {
      "model_module": "@jupyter-widgets/controls",
      "model_module_version": "1.5.0",
      "model_name": "DescriptionStyleModel",
      "state": {
       "_model_module": "@jupyter-widgets/controls",
       "_model_module_version": "1.5.0",
       "_model_name": "DescriptionStyleModel",
       "_view_count": null,
       "_view_module": "@jupyter-widgets/base",
       "_view_module_version": "1.2.0",
       "_view_name": "StyleView",
       "description_width": ""
      }
     },
     "643aff946e2a4ff5a29fc58e6f2344bc": {
      "model_module": "@jupyter-widgets/controls",
      "model_module_version": "1.5.0",
      "model_name": "DescriptionStyleModel",
      "state": {
       "_model_module": "@jupyter-widgets/controls",
       "_model_module_version": "1.5.0",
       "_model_name": "DescriptionStyleModel",
       "_view_count": null,
       "_view_module": "@jupyter-widgets/base",
       "_view_module_version": "1.2.0",
       "_view_name": "StyleView",
       "description_width": ""
      }
     },
     "6e47a1846d074edca25344a3f4469691": {
      "model_module": "@jupyter-widgets/controls",
      "model_module_version": "1.5.0",
      "model_name": "FloatProgressModel",
      "state": {
       "_dom_classes": [],
       "_model_module": "@jupyter-widgets/controls",
       "_model_module_version": "1.5.0",
       "_model_name": "FloatProgressModel",
       "_view_count": null,
       "_view_module": "@jupyter-widgets/controls",
       "_view_module_version": "1.5.0",
       "_view_name": "ProgressView",
       "bar_style": "success",
       "description": "",
       "description_tooltip": null,
       "layout": "IPY_MODEL_f330566985a54d83b59ec4ce4f879231",
       "max": 28.0,
       "min": 0.0,
       "orientation": "horizontal",
       "style": "IPY_MODEL_e0ffd3e66e8843e889ceb4a98db7d611",
       "value": 28.0
      }
     },
     "74e6df7d4b6b49ea892f3cef282218cd": {
      "model_module": "@jupyter-widgets/controls",
      "model_module_version": "1.5.0",
      "model_name": "ProgressStyleModel",
      "state": {
       "_model_module": "@jupyter-widgets/controls",
       "_model_module_version": "1.5.0",
       "_model_name": "ProgressStyleModel",
       "_view_count": null,
       "_view_module": "@jupyter-widgets/base",
       "_view_module_version": "1.2.0",
       "_view_name": "StyleView",
       "bar_color": null,
       "description_width": ""
      }
     },
     "84523128c9dd4c9589d52691269c7172": {
      "model_module": "@jupyter-widgets/base",
      "model_module_version": "1.2.0",
      "model_name": "LayoutModel",
      "state": {
       "_model_module": "@jupyter-widgets/base",
       "_model_module_version": "1.2.0",
       "_model_name": "LayoutModel",
       "_view_count": null,
       "_view_module": "@jupyter-widgets/base",
       "_view_module_version": "1.2.0",
       "_view_name": "LayoutView",
       "align_content": null,
       "align_items": null,
       "align_self": null,
       "border": null,
       "bottom": null,
       "display": null,
       "flex": null,
       "flex_flow": null,
       "grid_area": null,
       "grid_auto_columns": null,
       "grid_auto_flow": null,
       "grid_auto_rows": null,
       "grid_column": null,
       "grid_gap": null,
       "grid_row": null,
       "grid_template_areas": null,
       "grid_template_columns": null,
       "grid_template_rows": null,
       "height": null,
       "justify_content": null,
       "justify_items": null,
       "left": null,
       "margin": null,
       "max_height": null,
       "max_width": null,
       "min_height": null,
       "min_width": null,
       "object_fit": null,
       "object_position": null,
       "order": null,
       "overflow": null,
       "overflow_x": null,
       "overflow_y": null,
       "padding": null,
       "right": null,
       "top": null,
       "visibility": null,
       "width": null
      }
     },
     "8603434ad793458fae4b01d944eae125": {
      "model_module": "@jupyter-widgets/base",
      "model_module_version": "1.2.0",
      "model_name": "LayoutModel",
      "state": {
       "_model_module": "@jupyter-widgets/base",
       "_model_module_version": "1.2.0",
       "_model_name": "LayoutModel",
       "_view_count": null,
       "_view_module": "@jupyter-widgets/base",
       "_view_module_version": "1.2.0",
       "_view_name": "LayoutView",
       "align_content": null,
       "align_items": null,
       "align_self": null,
       "border": null,
       "bottom": null,
       "display": null,
       "flex": null,
       "flex_flow": null,
       "grid_area": null,
       "grid_auto_columns": null,
       "grid_auto_flow": null,
       "grid_auto_rows": null,
       "grid_column": null,
       "grid_gap": null,
       "grid_row": null,
       "grid_template_areas": null,
       "grid_template_columns": null,
       "grid_template_rows": null,
       "height": null,
       "justify_content": null,
       "justify_items": null,
       "left": null,
       "margin": null,
       "max_height": null,
       "max_width": null,
       "min_height": null,
       "min_width": null,
       "object_fit": null,
       "object_position": null,
       "order": null,
       "overflow": null,
       "overflow_x": null,
       "overflow_y": null,
       "padding": null,
       "right": null,
       "top": null,
       "visibility": null,
       "width": null
      }
     },
     "87894c72febf445faf8ee1ff4e1978eb": {
      "model_module": "@jupyter-widgets/controls",
      "model_module_version": "1.5.0",
      "model_name": "DescriptionStyleModel",
      "state": {
       "_model_module": "@jupyter-widgets/controls",
       "_model_module_version": "1.5.0",
       "_model_name": "DescriptionStyleModel",
       "_view_count": null,
       "_view_module": "@jupyter-widgets/base",
       "_view_module_version": "1.2.0",
       "_view_name": "StyleView",
       "description_width": ""
      }
     },
     "8d12c9fda27b405781b6ca7bbb20ac17": {
      "model_module": "@jupyter-widgets/controls",
      "model_module_version": "1.5.0",
      "model_name": "HTMLModel",
      "state": {
       "_dom_classes": [],
       "_model_module": "@jupyter-widgets/controls",
       "_model_module_version": "1.5.0",
       "_model_name": "HTMLModel",
       "_view_count": null,
       "_view_module": "@jupyter-widgets/controls",
       "_view_module_version": "1.5.0",
       "_view_name": "HTMLView",
       "description": "",
       "description_tooltip": null,
       "layout": "IPY_MODEL_3545d1ea3adf4cd28a5a16ab1c57feba",
       "placeholder": "​",
       "style": "IPY_MODEL_19ef88ffb5774454a720406baf811178",
       "value": "Downloading: 100%"
      }
     },
     "91c034dfdc294d70951f6e4a0855a7fe": {
      "model_module": "@jupyter-widgets/base",
      "model_module_version": "1.2.0",
      "model_name": "LayoutModel",
      "state": {
       "_model_module": "@jupyter-widgets/base",
       "_model_module_version": "1.2.0",
       "_model_name": "LayoutModel",
       "_view_count": null,
       "_view_module": "@jupyter-widgets/base",
       "_view_module_version": "1.2.0",
       "_view_name": "LayoutView",
       "align_content": null,
       "align_items": null,
       "align_self": null,
       "border": null,
       "bottom": null,
       "display": null,
       "flex": null,
       "flex_flow": null,
       "grid_area": null,
       "grid_auto_columns": null,
       "grid_auto_flow": null,
       "grid_auto_rows": null,
       "grid_column": null,
       "grid_gap": null,
       "grid_row": null,
       "grid_template_areas": null,
       "grid_template_columns": null,
       "grid_template_rows": null,
       "height": null,
       "justify_content": null,
       "justify_items": null,
       "left": null,
       "margin": null,
       "max_height": null,
       "max_width": null,
       "min_height": null,
       "min_width": null,
       "object_fit": null,
       "object_position": null,
       "order": null,
       "overflow": null,
       "overflow_x": null,
       "overflow_y": null,
       "padding": null,
       "right": null,
       "top": null,
       "visibility": null,
       "width": null
      }
     },
     "9ccfad7dda9344ed941794aa48b98cf2": {
      "model_module": "@jupyter-widgets/base",
      "model_module_version": "1.2.0",
      "model_name": "LayoutModel",
      "state": {
       "_model_module": "@jupyter-widgets/base",
       "_model_module_version": "1.2.0",
       "_model_name": "LayoutModel",
       "_view_count": null,
       "_view_module": "@jupyter-widgets/base",
       "_view_module_version": "1.2.0",
       "_view_name": "LayoutView",
       "align_content": null,
       "align_items": null,
       "align_self": null,
       "border": null,
       "bottom": null,
       "display": null,
       "flex": null,
       "flex_flow": null,
       "grid_area": null,
       "grid_auto_columns": null,
       "grid_auto_flow": null,
       "grid_auto_rows": null,
       "grid_column": null,
       "grid_gap": null,
       "grid_row": null,
       "grid_template_areas": null,
       "grid_template_columns": null,
       "grid_template_rows": null,
       "height": null,
       "justify_content": null,
       "justify_items": null,
       "left": null,
       "margin": null,
       "max_height": null,
       "max_width": null,
       "min_height": null,
       "min_width": null,
       "object_fit": null,
       "object_position": null,
       "order": null,
       "overflow": null,
       "overflow_x": null,
       "overflow_y": null,
       "padding": null,
       "right": null,
       "top": null,
       "visibility": null,
       "width": null
      }
     },
     "9f7f63a989ed40098e77f79981cf5909": {
      "model_module": "@jupyter-widgets/controls",
      "model_module_version": "1.5.0",
      "model_name": "DescriptionStyleModel",
      "state": {
       "_model_module": "@jupyter-widgets/controls",
       "_model_module_version": "1.5.0",
       "_model_name": "DescriptionStyleModel",
       "_view_count": null,
       "_view_module": "@jupyter-widgets/base",
       "_view_module_version": "1.2.0",
       "_view_name": "StyleView",
       "description_width": ""
      }
     },
     "a61057389a0545b59a0ad59c518a0a20": {
      "model_module": "@jupyter-widgets/base",
      "model_module_version": "1.2.0",
      "model_name": "LayoutModel",
      "state": {
       "_model_module": "@jupyter-widgets/base",
       "_model_module_version": "1.2.0",
       "_model_name": "LayoutModel",
       "_view_count": null,
       "_view_module": "@jupyter-widgets/base",
       "_view_module_version": "1.2.0",
       "_view_name": "LayoutView",
       "align_content": null,
       "align_items": null,
       "align_self": null,
       "border": null,
       "bottom": null,
       "display": null,
       "flex": null,
       "flex_flow": null,
       "grid_area": null,
       "grid_auto_columns": null,
       "grid_auto_flow": null,
       "grid_auto_rows": null,
       "grid_column": null,
       "grid_gap": null,
       "grid_row": null,
       "grid_template_areas": null,
       "grid_template_columns": null,
       "grid_template_rows": null,
       "height": null,
       "justify_content": null,
       "justify_items": null,
       "left": null,
       "margin": null,
       "max_height": null,
       "max_width": null,
       "min_height": null,
       "min_width": null,
       "object_fit": null,
       "object_position": null,
       "order": null,
       "overflow": null,
       "overflow_x": null,
       "overflow_y": null,
       "padding": null,
       "right": null,
       "top": null,
       "visibility": null,
       "width": null
      }
     },
     "acb5391e8bb842c4abd324080ef534e2": {
      "model_module": "@jupyter-widgets/controls",
      "model_module_version": "1.5.0",
      "model_name": "DescriptionStyleModel",
      "state": {
       "_model_module": "@jupyter-widgets/controls",
       "_model_module_version": "1.5.0",
       "_model_name": "DescriptionStyleModel",
       "_view_count": null,
       "_view_module": "@jupyter-widgets/base",
       "_view_module_version": "1.2.0",
       "_view_name": "StyleView",
       "description_width": ""
      }
     },
     "b0e2e87ef554475391be1eb1d23f9dc8": {
      "model_module": "@jupyter-widgets/controls",
      "model_module_version": "1.5.0",
      "model_name": "HTMLModel",
      "state": {
       "_dom_classes": [],
       "_model_module": "@jupyter-widgets/controls",
       "_model_module_version": "1.5.0",
       "_model_name": "HTMLModel",
       "_view_count": null,
       "_view_module": "@jupyter-widgets/controls",
       "_view_module_version": "1.5.0",
       "_view_name": "HTMLView",
       "description": "",
       "description_tooltip": null,
       "layout": "IPY_MODEL_8603434ad793458fae4b01d944eae125",
       "placeholder": "​",
       "style": "IPY_MODEL_c9dd3c642c4f4b7e88ed7c70c7e1ae4b",
       "value": " 232k/232k [00:00&lt;00:00, 539kB/s]"
      }
     },
     "bc819adc14344b839ef891d45f9a49a9": {
      "model_module": "@jupyter-widgets/base",
      "model_module_version": "1.2.0",
      "model_name": "LayoutModel",
      "state": {
       "_model_module": "@jupyter-widgets/base",
       "_model_module_version": "1.2.0",
       "_model_name": "LayoutModel",
       "_view_count": null,
       "_view_module": "@jupyter-widgets/base",
       "_view_module_version": "1.2.0",
       "_view_name": "LayoutView",
       "align_content": null,
       "align_items": null,
       "align_self": null,
       "border": null,
       "bottom": null,
       "display": null,
       "flex": null,
       "flex_flow": null,
       "grid_area": null,
       "grid_auto_columns": null,
       "grid_auto_flow": null,
       "grid_auto_rows": null,
       "grid_column": null,
       "grid_gap": null,
       "grid_row": null,
       "grid_template_areas": null,
       "grid_template_columns": null,
       "grid_template_rows": null,
       "height": null,
       "justify_content": null,
       "justify_items": null,
       "left": null,
       "margin": null,
       "max_height": null,
       "max_width": null,
       "min_height": null,
       "min_width": null,
       "object_fit": null,
       "object_position": null,
       "order": null,
       "overflow": null,
       "overflow_x": null,
       "overflow_y": null,
       "padding": null,
       "right": null,
       "top": null,
       "visibility": null,
       "width": null
      }
     },
     "c1e6f5ae4cac4f6e93ff0eb0ae7de732": {
      "model_module": "@jupyter-widgets/base",
      "model_module_version": "1.2.0",
      "model_name": "LayoutModel",
      "state": {
       "_model_module": "@jupyter-widgets/base",
       "_model_module_version": "1.2.0",
       "_model_name": "LayoutModel",
       "_view_count": null,
       "_view_module": "@jupyter-widgets/base",
       "_view_module_version": "1.2.0",
       "_view_name": "LayoutView",
       "align_content": null,
       "align_items": null,
       "align_self": null,
       "border": null,
       "bottom": null,
       "display": null,
       "flex": null,
       "flex_flow": null,
       "grid_area": null,
       "grid_auto_columns": null,
       "grid_auto_flow": null,
       "grid_auto_rows": null,
       "grid_column": null,
       "grid_gap": null,
       "grid_row": null,
       "grid_template_areas": null,
       "grid_template_columns": null,
       "grid_template_rows": null,
       "height": null,
       "justify_content": null,
       "justify_items": null,
       "left": null,
       "margin": null,
       "max_height": null,
       "max_width": null,
       "min_height": null,
       "min_width": null,
       "object_fit": null,
       "object_position": null,
       "order": null,
       "overflow": null,
       "overflow_x": null,
       "overflow_y": null,
       "padding": null,
       "right": null,
       "top": null,
       "visibility": null,
       "width": null
      }
     },
     "c2207e8c333c48a7a57e01dfbb015e3e": {
      "model_module": "@jupyter-widgets/controls",
      "model_module_version": "1.5.0",
      "model_name": "HTMLModel",
      "state": {
       "_dom_classes": [],
       "_model_module": "@jupyter-widgets/controls",
       "_model_module_version": "1.5.0",
       "_model_name": "HTMLModel",
       "_view_count": null,
       "_view_module": "@jupyter-widgets/controls",
       "_view_module_version": "1.5.0",
       "_view_name": "HTMLView",
       "description": "",
       "description_tooltip": null,
       "layout": "IPY_MODEL_f6ef3c580d3f4d51920548b40705af62",
       "placeholder": "​",
       "style": "IPY_MODEL_acb5391e8bb842c4abd324080ef534e2",
       "value": " 1.47G/1.47G [02:01&lt;00:00, 12.5MB/s]"
      }
     },
     "c9dd3c642c4f4b7e88ed7c70c7e1ae4b": {
      "model_module": "@jupyter-widgets/controls",
      "model_module_version": "1.5.0",
      "model_name": "DescriptionStyleModel",
      "state": {
       "_model_module": "@jupyter-widgets/controls",
       "_model_module_version": "1.5.0",
       "_model_name": "DescriptionStyleModel",
       "_view_count": null,
       "_view_module": "@jupyter-widgets/base",
       "_view_module_version": "1.2.0",
       "_view_name": "StyleView",
       "description_width": ""
      }
     },
     "cd753d4915ff41a69992f51612daa075": {
      "model_module": "@jupyter-widgets/controls",
      "model_module_version": "1.5.0",
      "model_name": "ProgressStyleModel",
      "state": {
       "_model_module": "@jupyter-widgets/controls",
       "_model_module_version": "1.5.0",
       "_model_name": "ProgressStyleModel",
       "_view_count": null,
       "_view_module": "@jupyter-widgets/base",
       "_view_module_version": "1.2.0",
       "_view_name": "StyleView",
       "bar_color": null,
       "description_width": ""
      }
     },
     "cd90e5fcee1b4f2a97ecdf8f01dada87": {
      "model_module": "@jupyter-widgets/controls",
      "model_module_version": "1.5.0",
      "model_name": "HBoxModel",
      "state": {
       "_dom_classes": [],
       "_model_module": "@jupyter-widgets/controls",
       "_model_module_version": "1.5.0",
       "_model_name": "HBoxModel",
       "_view_count": null,
       "_view_module": "@jupyter-widgets/controls",
       "_view_module_version": "1.5.0",
       "_view_name": "HBoxView",
       "box_style": "",
       "children": [
        "IPY_MODEL_e4077fc7015f45ce8f4f4cf8bb6dd2b8",
        "IPY_MODEL_43d13cc636e24e8b9c20c9276180c6ae",
        "IPY_MODEL_0a8eb72205a54600a87b9a15cc5f477c"
       ],
       "layout": "IPY_MODEL_df5e6cc359be4fd5a14bf3a89ef680fe"
      }
     },
     "cde058a848b64899b04c2b931af14f03": {
      "model_module": "@jupyter-widgets/base",
      "model_module_version": "1.2.0",
      "model_name": "LayoutModel",
      "state": {
       "_model_module": "@jupyter-widgets/base",
       "_model_module_version": "1.2.0",
       "_model_name": "LayoutModel",
       "_view_count": null,
       "_view_module": "@jupyter-widgets/base",
       "_view_module_version": "1.2.0",
       "_view_name": "LayoutView",
       "align_content": null,
       "align_items": null,
       "align_self": null,
       "border": null,
       "bottom": null,
       "display": null,
       "flex": null,
       "flex_flow": null,
       "grid_area": null,
       "grid_auto_columns": null,
       "grid_auto_flow": null,
       "grid_auto_rows": null,
       "grid_column": null,
       "grid_gap": null,
       "grid_row": null,
       "grid_template_areas": null,
       "grid_template_columns": null,
       "grid_template_rows": null,
       "height": null,
       "justify_content": null,
       "justify_items": null,
       "left": null,
       "margin": null,
       "max_height": null,
       "max_width": null,
       "min_height": null,
       "min_width": null,
       "object_fit": null,
       "object_position": null,
       "order": null,
       "overflow": null,
       "overflow_x": null,
       "overflow_y": null,
       "padding": null,
       "right": null,
       "top": null,
       "visibility": null,
       "width": null
      }
     },
     "d952dd05a3194f3d9a914649b40309fd": {
      "model_module": "@jupyter-widgets/base",
      "model_module_version": "1.2.0",
      "model_name": "LayoutModel",
      "state": {
       "_model_module": "@jupyter-widgets/base",
       "_model_module_version": "1.2.0",
       "_model_name": "LayoutModel",
       "_view_count": null,
       "_view_module": "@jupyter-widgets/base",
       "_view_module_version": "1.2.0",
       "_view_name": "LayoutView",
       "align_content": null,
       "align_items": null,
       "align_self": null,
       "border": null,
       "bottom": null,
       "display": null,
       "flex": null,
       "flex_flow": null,
       "grid_area": null,
       "grid_auto_columns": null,
       "grid_auto_flow": null,
       "grid_auto_rows": null,
       "grid_column": null,
       "grid_gap": null,
       "grid_row": null,
       "grid_template_areas": null,
       "grid_template_columns": null,
       "grid_template_rows": null,
       "height": null,
       "justify_content": null,
       "justify_items": null,
       "left": null,
       "margin": null,
       "max_height": null,
       "max_width": null,
       "min_height": null,
       "min_width": null,
       "object_fit": null,
       "object_position": null,
       "order": null,
       "overflow": null,
       "overflow_x": null,
       "overflow_y": null,
       "padding": null,
       "right": null,
       "top": null,
       "visibility": null,
       "width": null
      }
     },
     "df5e6cc359be4fd5a14bf3a89ef680fe": {
      "model_module": "@jupyter-widgets/base",
      "model_module_version": "1.2.0",
      "model_name": "LayoutModel",
      "state": {
       "_model_module": "@jupyter-widgets/base",
       "_model_module_version": "1.2.0",
       "_model_name": "LayoutModel",
       "_view_count": null,
       "_view_module": "@jupyter-widgets/base",
       "_view_module_version": "1.2.0",
       "_view_name": "LayoutView",
       "align_content": null,
       "align_items": null,
       "align_self": null,
       "border": null,
       "bottom": null,
       "display": null,
       "flex": null,
       "flex_flow": null,
       "grid_area": null,
       "grid_auto_columns": null,
       "grid_auto_flow": null,
       "grid_auto_rows": null,
       "grid_column": null,
       "grid_gap": null,
       "grid_row": null,
       "grid_template_areas": null,
       "grid_template_columns": null,
       "grid_template_rows": null,
       "height": null,
       "justify_content": null,
       "justify_items": null,
       "left": null,
       "margin": null,
       "max_height": null,
       "max_width": null,
       "min_height": null,
       "min_width": null,
       "object_fit": null,
       "object_position": null,
       "order": null,
       "overflow": null,
       "overflow_x": null,
       "overflow_y": null,
       "padding": null,
       "right": null,
       "top": null,
       "visibility": null,
       "width": null
      }
     },
     "dfa5cc414b4b4bdfae50a7668175848a": {
      "model_module": "@jupyter-widgets/controls",
      "model_module_version": "1.5.0",
      "model_name": "DescriptionStyleModel",
      "state": {
       "_model_module": "@jupyter-widgets/controls",
       "_model_module_version": "1.5.0",
       "_model_name": "DescriptionStyleModel",
       "_view_count": null,
       "_view_module": "@jupyter-widgets/base",
       "_view_module_version": "1.2.0",
       "_view_name": "StyleView",
       "description_width": ""
      }
     },
     "e0ffd3e66e8843e889ceb4a98db7d611": {
      "model_module": "@jupyter-widgets/controls",
      "model_module_version": "1.5.0",
      "model_name": "ProgressStyleModel",
      "state": {
       "_model_module": "@jupyter-widgets/controls",
       "_model_module_version": "1.5.0",
       "_model_name": "ProgressStyleModel",
       "_view_count": null,
       "_view_module": "@jupyter-widgets/base",
       "_view_module_version": "1.2.0",
       "_view_name": "StyleView",
       "bar_color": null,
       "description_width": ""
      }
     },
     "e4077fc7015f45ce8f4f4cf8bb6dd2b8": {
      "model_module": "@jupyter-widgets/controls",
      "model_module_version": "1.5.0",
      "model_name": "HTMLModel",
      "state": {
       "_dom_classes": [],
       "_model_module": "@jupyter-widgets/controls",
       "_model_module_version": "1.5.0",
       "_model_name": "HTMLModel",
       "_view_count": null,
       "_view_module": "@jupyter-widgets/controls",
       "_view_module_version": "1.5.0",
       "_view_name": "HTMLView",
       "description": "",
       "description_tooltip": null,
       "layout": "IPY_MODEL_bc819adc14344b839ef891d45f9a49a9",
       "placeholder": "​",
       "style": "IPY_MODEL_dfa5cc414b4b4bdfae50a7668175848a",
       "value": "Downloading: 100%"
      }
     },
     "e5a90ce33fe44c0cb14c3f663cf34d67": {
      "model_module": "@jupyter-widgets/controls",
      "model_module_version": "1.5.0",
      "model_name": "HBoxModel",
      "state": {
       "_dom_classes": [],
       "_model_module": "@jupyter-widgets/controls",
       "_model_module_version": "1.5.0",
       "_model_name": "HBoxModel",
       "_view_count": null,
       "_view_module": "@jupyter-widgets/controls",
       "_view_module_version": "1.5.0",
       "_view_name": "HBoxView",
       "box_style": "",
       "children": [
        "IPY_MODEL_024c78791170445ab78fd1ff2ad27e8d",
        "IPY_MODEL_32e69f00521047748ebaa162598fa553",
        "IPY_MODEL_0a2002f020054992805c58d667ca7fe1"
       ],
       "layout": "IPY_MODEL_a61057389a0545b59a0ad59c518a0a20"
      }
     },
     "e6f44f87a2be42c488c2c0023395bc7f": {
      "model_module": "@jupyter-widgets/controls",
      "model_module_version": "1.5.0",
      "model_name": "DescriptionStyleModel",
      "state": {
       "_model_module": "@jupyter-widgets/controls",
       "_model_module_version": "1.5.0",
       "_model_name": "DescriptionStyleModel",
       "_view_count": null,
       "_view_module": "@jupyter-widgets/base",
       "_view_module_version": "1.2.0",
       "_view_name": "StyleView",
       "description_width": ""
      }
     },
     "ec38f40e97ef47929c18f9fe2310e0fb": {
      "model_module": "@jupyter-widgets/controls",
      "model_module_version": "1.5.0",
      "model_name": "ProgressStyleModel",
      "state": {
       "_model_module": "@jupyter-widgets/controls",
       "_model_module_version": "1.5.0",
       "_model_name": "ProgressStyleModel",
       "_view_count": null,
       "_view_module": "@jupyter-widgets/base",
       "_view_module_version": "1.2.0",
       "_view_name": "StyleView",
       "bar_color": null,
       "description_width": ""
      }
     },
     "f330566985a54d83b59ec4ce4f879231": {
      "model_module": "@jupyter-widgets/base",
      "model_module_version": "1.2.0",
      "model_name": "LayoutModel",
      "state": {
       "_model_module": "@jupyter-widgets/base",
       "_model_module_version": "1.2.0",
       "_model_name": "LayoutModel",
       "_view_count": null,
       "_view_module": "@jupyter-widgets/base",
       "_view_module_version": "1.2.0",
       "_view_name": "LayoutView",
       "align_content": null,
       "align_items": null,
       "align_self": null,
       "border": null,
       "bottom": null,
       "display": null,
       "flex": null,
       "flex_flow": null,
       "grid_area": null,
       "grid_auto_columns": null,
       "grid_auto_flow": null,
       "grid_auto_rows": null,
       "grid_column": null,
       "grid_gap": null,
       "grid_row": null,
       "grid_template_areas": null,
       "grid_template_columns": null,
       "grid_template_rows": null,
       "height": null,
       "justify_content": null,
       "justify_items": null,
       "left": null,
       "margin": null,
       "max_height": null,
       "max_width": null,
       "min_height": null,
       "min_width": null,
       "object_fit": null,
       "object_position": null,
       "order": null,
       "overflow": null,
       "overflow_x": null,
       "overflow_y": null,
       "padding": null,
       "right": null,
       "top": null,
       "visibility": null,
       "width": null
      }
     },
     "f6ef3c580d3f4d51920548b40705af62": {
      "model_module": "@jupyter-widgets/base",
      "model_module_version": "1.2.0",
      "model_name": "LayoutModel",
      "state": {
       "_model_module": "@jupyter-widgets/base",
       "_model_module_version": "1.2.0",
       "_model_name": "LayoutModel",
       "_view_count": null,
       "_view_module": "@jupyter-widgets/base",
       "_view_module_version": "1.2.0",
       "_view_name": "LayoutView",
       "align_content": null,
       "align_items": null,
       "align_self": null,
       "border": null,
       "bottom": null,
       "display": null,
       "flex": null,
       "flex_flow": null,
       "grid_area": null,
       "grid_auto_columns": null,
       "grid_auto_flow": null,
       "grid_auto_rows": null,
       "grid_column": null,
       "grid_gap": null,
       "grid_row": null,
       "grid_template_areas": null,
       "grid_template_columns": null,
       "grid_template_rows": null,
       "height": null,
       "justify_content": null,
       "justify_items": null,
       "left": null,
       "margin": null,
       "max_height": null,
       "max_width": null,
       "min_height": null,
       "min_width": null,
       "object_fit": null,
       "object_position": null,
       "order": null,
       "overflow": null,
       "overflow_x": null,
       "overflow_y": null,
       "padding": null,
       "right": null,
       "top": null,
       "visibility": null,
       "width": null
      }
     },
     "fb09351886bb4d338da1c861682d1984": {
      "model_module": "@jupyter-widgets/controls",
      "model_module_version": "1.5.0",
      "model_name": "ProgressStyleModel",
      "state": {
       "_model_module": "@jupyter-widgets/controls",
       "_model_module_version": "1.5.0",
       "_model_name": "ProgressStyleModel",
       "_view_count": null,
       "_view_module": "@jupyter-widgets/base",
       "_view_module_version": "1.2.0",
       "_view_name": "StyleView",
       "bar_color": null,
       "description_width": ""
      }
     },
     "fc5627dd7a804e82ae1be5e686860b2b": {
      "model_module": "@jupyter-widgets/controls",
      "model_module_version": "1.5.0",
      "model_name": "HTMLModel",
      "state": {
       "_dom_classes": [],
       "_model_module": "@jupyter-widgets/controls",
       "_model_module_version": "1.5.0",
       "_model_name": "HTMLModel",
       "_view_count": null,
       "_view_module": "@jupyter-widgets/controls",
       "_view_module_version": "1.5.0",
       "_view_name": "HTMLView",
       "description": "",
       "description_tooltip": null,
       "layout": "IPY_MODEL_076f5539f89b475b8cd0e2aa1b90a628",
       "placeholder": "​",
       "style": "IPY_MODEL_643aff946e2a4ff5a29fc58e6f2344bc",
       "value": " 28.0/28.0 [00:00&lt;00:00, 1.00kB/s]"
      }
     }
    },
    "version_major": 2,
    "version_minor": 0
   }
  }
 },
 "nbformat": 4,
 "nbformat_minor": 5
}
